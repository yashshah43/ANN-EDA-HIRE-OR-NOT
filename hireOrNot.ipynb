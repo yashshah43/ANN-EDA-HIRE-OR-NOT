{
 "cells": [
  {
   "cell_type": "markdown",
   "metadata": {},
   "source": [
    "# HIRE or NOT !"
   ]
  },
  {
   "cell_type": "markdown",
   "metadata": {},
   "source": [
    "## Importing Libraries"
   ]
  },
  {
   "cell_type": "code",
   "execution_count": 41,
   "metadata": {},
   "outputs": [],
   "source": [
    "import pandas as pd\n",
    "import numpy as np\n",
    "import matplotlib.pyplot as plt\n",
    "import seaborn as sns\n",
    "import tensorflow as tf"
   ]
  },
  {
   "cell_type": "markdown",
   "metadata": {},
   "source": [
    "## Import the Dataset"
   ]
  },
  {
   "cell_type": "code",
   "execution_count": 42,
   "metadata": {},
   "outputs": [],
   "source": [
    "dataset = pd.read_csv('recruitment_data.csv')"
   ]
  },
  {
   "cell_type": "markdown",
   "metadata": {},
   "source": [
    "### Display of top rows of dataset"
   ]
  },
  {
   "cell_type": "code",
   "execution_count": 43,
   "metadata": {},
   "outputs": [
    {
     "data": {
      "text/html": [
       "<div>\n",
       "<style scoped>\n",
       "    .dataframe tbody tr th:only-of-type {\n",
       "        vertical-align: middle;\n",
       "    }\n",
       "\n",
       "    .dataframe tbody tr th {\n",
       "        vertical-align: top;\n",
       "    }\n",
       "\n",
       "    .dataframe thead th {\n",
       "        text-align: right;\n",
       "    }\n",
       "</style>\n",
       "<table border=\"1\" class=\"dataframe\">\n",
       "  <thead>\n",
       "    <tr style=\"text-align: right;\">\n",
       "      <th></th>\n",
       "      <th>Age</th>\n",
       "      <th>Gender</th>\n",
       "      <th>EducationLevel</th>\n",
       "      <th>ExperienceYears</th>\n",
       "      <th>PreviousCompanies</th>\n",
       "      <th>DistanceFromCompany</th>\n",
       "      <th>InterviewScore</th>\n",
       "      <th>SkillScore</th>\n",
       "      <th>PersonalityScore</th>\n",
       "      <th>RecruitmentStrategy</th>\n",
       "      <th>HiringDecision</th>\n",
       "    </tr>\n",
       "  </thead>\n",
       "  <tbody>\n",
       "    <tr>\n",
       "      <th>0</th>\n",
       "      <td>26</td>\n",
       "      <td>1</td>\n",
       "      <td>2</td>\n",
       "      <td>0</td>\n",
       "      <td>3</td>\n",
       "      <td>26.783828</td>\n",
       "      <td>48</td>\n",
       "      <td>78</td>\n",
       "      <td>91</td>\n",
       "      <td>1</td>\n",
       "      <td>1</td>\n",
       "    </tr>\n",
       "    <tr>\n",
       "      <th>1</th>\n",
       "      <td>39</td>\n",
       "      <td>1</td>\n",
       "      <td>4</td>\n",
       "      <td>12</td>\n",
       "      <td>3</td>\n",
       "      <td>25.862694</td>\n",
       "      <td>35</td>\n",
       "      <td>68</td>\n",
       "      <td>80</td>\n",
       "      <td>2</td>\n",
       "      <td>1</td>\n",
       "    </tr>\n",
       "    <tr>\n",
       "      <th>2</th>\n",
       "      <td>48</td>\n",
       "      <td>0</td>\n",
       "      <td>2</td>\n",
       "      <td>3</td>\n",
       "      <td>2</td>\n",
       "      <td>9.920805</td>\n",
       "      <td>20</td>\n",
       "      <td>67</td>\n",
       "      <td>13</td>\n",
       "      <td>2</td>\n",
       "      <td>0</td>\n",
       "    </tr>\n",
       "    <tr>\n",
       "      <th>3</th>\n",
       "      <td>34</td>\n",
       "      <td>1</td>\n",
       "      <td>2</td>\n",
       "      <td>5</td>\n",
       "      <td>2</td>\n",
       "      <td>6.407751</td>\n",
       "      <td>36</td>\n",
       "      <td>27</td>\n",
       "      <td>70</td>\n",
       "      <td>3</td>\n",
       "      <td>0</td>\n",
       "    </tr>\n",
       "    <tr>\n",
       "      <th>4</th>\n",
       "      <td>30</td>\n",
       "      <td>0</td>\n",
       "      <td>1</td>\n",
       "      <td>6</td>\n",
       "      <td>1</td>\n",
       "      <td>43.105343</td>\n",
       "      <td>23</td>\n",
       "      <td>52</td>\n",
       "      <td>85</td>\n",
       "      <td>2</td>\n",
       "      <td>0</td>\n",
       "    </tr>\n",
       "  </tbody>\n",
       "</table>\n",
       "</div>"
      ],
      "text/plain": [
       "   Age  Gender  EducationLevel  ExperienceYears  PreviousCompanies  \\\n",
       "0   26       1               2                0                  3   \n",
       "1   39       1               4               12                  3   \n",
       "2   48       0               2                3                  2   \n",
       "3   34       1               2                5                  2   \n",
       "4   30       0               1                6                  1   \n",
       "\n",
       "   DistanceFromCompany  InterviewScore  SkillScore  PersonalityScore  \\\n",
       "0            26.783828              48          78                91   \n",
       "1            25.862694              35          68                80   \n",
       "2             9.920805              20          67                13   \n",
       "3             6.407751              36          27                70   \n",
       "4            43.105343              23          52                85   \n",
       "\n",
       "   RecruitmentStrategy  HiringDecision  \n",
       "0                    1               1  \n",
       "1                    2               1  \n",
       "2                    2               0  \n",
       "3                    3               0  \n",
       "4                    2               0  "
      ]
     },
     "execution_count": 43,
     "metadata": {},
     "output_type": "execute_result"
    }
   ],
   "source": [
    "dataset.head()"
   ]
  },
  {
   "cell_type": "markdown",
   "metadata": {},
   "source": [
    "## Variables Description :\n",
    "\n",
    "Age :\n",
    "Data Range: 20 to 50 years.\n",
    "\n",
    "Gender :\n",
    " Male (0) or Female (1).\n",
    "\n",
    "Education Level :<br>\n",
    "Categories:<br>\n",
    "1: Bachelor's <br>\n",
    "2: Bachelor's <br>\n",
    "3: Master's<br>\n",
    "4: PhD<br>\n",
    "\n",
    "Experience Years :\n",
    "Data Range: 0 to 15 years.\n",
    "\n",
    "Previous Companies Worked :\n",
    "Data Range: 1 to 5 companies.\n",
    "\n",
    "Distance From Company :\n",
    "Data Range: 1 to 50 kilometers.\n",
    "\n",
    "Interview Score :\n",
    "Data Range: 0 to 100.\n",
    "\n",
    "Skill Score :\n",
    "Data Range: 0 to 100.\n",
    "\n",
    "Personality Score :\n",
    "Data Range: 0 to 100.\n",
    "\n",
    "Recruitment Strategy :\n",
    "Description: Strategy adopted by the hiring team for recruitment.<br>\n",
    "Categories:<br>\n",
    "1: Aggressive<br>\n",
    "2: Moderate<br>\n",
    "3: Conservative<br>\n",
    "\n",
    "Hiring Decision :<br>\n",
    "0: Not hired<br>\n",
    "1: Hired<br>"
   ]
  },
  {
   "cell_type": "markdown",
   "metadata": {},
   "source": [
    "# Exploratory Data Analysis"
   ]
  },
  {
   "cell_type": "markdown",
   "metadata": {},
   "source": [
    "### Basic description about the data"
   ]
  },
  {
   "cell_type": "code",
   "execution_count": 44,
   "metadata": {},
   "outputs": [
    {
     "data": {
      "text/html": [
       "<div>\n",
       "<style scoped>\n",
       "    .dataframe tbody tr th:only-of-type {\n",
       "        vertical-align: middle;\n",
       "    }\n",
       "\n",
       "    .dataframe tbody tr th {\n",
       "        vertical-align: top;\n",
       "    }\n",
       "\n",
       "    .dataframe thead th {\n",
       "        text-align: right;\n",
       "    }\n",
       "</style>\n",
       "<table border=\"1\" class=\"dataframe\">\n",
       "  <thead>\n",
       "    <tr style=\"text-align: right;\">\n",
       "      <th></th>\n",
       "      <th>Age</th>\n",
       "      <th>Gender</th>\n",
       "      <th>EducationLevel</th>\n",
       "      <th>ExperienceYears</th>\n",
       "      <th>PreviousCompanies</th>\n",
       "      <th>DistanceFromCompany</th>\n",
       "      <th>InterviewScore</th>\n",
       "      <th>SkillScore</th>\n",
       "      <th>PersonalityScore</th>\n",
       "      <th>RecruitmentStrategy</th>\n",
       "      <th>HiringDecision</th>\n",
       "    </tr>\n",
       "  </thead>\n",
       "  <tbody>\n",
       "    <tr>\n",
       "      <th>count</th>\n",
       "      <td>1500.000000</td>\n",
       "      <td>1500.000000</td>\n",
       "      <td>1500.000000</td>\n",
       "      <td>1500.000000</td>\n",
       "      <td>1500.00000</td>\n",
       "      <td>1500.000000</td>\n",
       "      <td>1500.000000</td>\n",
       "      <td>1500.000000</td>\n",
       "      <td>1500.000000</td>\n",
       "      <td>1500.000000</td>\n",
       "      <td>1500.000000</td>\n",
       "    </tr>\n",
       "    <tr>\n",
       "      <th>mean</th>\n",
       "      <td>35.148667</td>\n",
       "      <td>0.492000</td>\n",
       "      <td>2.188000</td>\n",
       "      <td>7.694000</td>\n",
       "      <td>3.00200</td>\n",
       "      <td>25.505379</td>\n",
       "      <td>50.564000</td>\n",
       "      <td>51.116000</td>\n",
       "      <td>49.387333</td>\n",
       "      <td>1.893333</td>\n",
       "      <td>0.310000</td>\n",
       "    </tr>\n",
       "    <tr>\n",
       "      <th>std</th>\n",
       "      <td>9.252728</td>\n",
       "      <td>0.500103</td>\n",
       "      <td>0.862449</td>\n",
       "      <td>4.641414</td>\n",
       "      <td>1.41067</td>\n",
       "      <td>14.567151</td>\n",
       "      <td>28.626215</td>\n",
       "      <td>29.353563</td>\n",
       "      <td>29.353201</td>\n",
       "      <td>0.689642</td>\n",
       "      <td>0.462647</td>\n",
       "    </tr>\n",
       "    <tr>\n",
       "      <th>min</th>\n",
       "      <td>20.000000</td>\n",
       "      <td>0.000000</td>\n",
       "      <td>1.000000</td>\n",
       "      <td>0.000000</td>\n",
       "      <td>1.00000</td>\n",
       "      <td>1.031376</td>\n",
       "      <td>0.000000</td>\n",
       "      <td>0.000000</td>\n",
       "      <td>0.000000</td>\n",
       "      <td>1.000000</td>\n",
       "      <td>0.000000</td>\n",
       "    </tr>\n",
       "    <tr>\n",
       "      <th>25%</th>\n",
       "      <td>27.000000</td>\n",
       "      <td>0.000000</td>\n",
       "      <td>2.000000</td>\n",
       "      <td>4.000000</td>\n",
       "      <td>2.00000</td>\n",
       "      <td>12.838851</td>\n",
       "      <td>25.000000</td>\n",
       "      <td>25.750000</td>\n",
       "      <td>23.000000</td>\n",
       "      <td>1.000000</td>\n",
       "      <td>0.000000</td>\n",
       "    </tr>\n",
       "    <tr>\n",
       "      <th>50%</th>\n",
       "      <td>35.000000</td>\n",
       "      <td>0.000000</td>\n",
       "      <td>2.000000</td>\n",
       "      <td>8.000000</td>\n",
       "      <td>3.00000</td>\n",
       "      <td>25.502239</td>\n",
       "      <td>52.000000</td>\n",
       "      <td>53.000000</td>\n",
       "      <td>49.000000</td>\n",
       "      <td>2.000000</td>\n",
       "      <td>0.000000</td>\n",
       "    </tr>\n",
       "    <tr>\n",
       "      <th>75%</th>\n",
       "      <td>43.000000</td>\n",
       "      <td>1.000000</td>\n",
       "      <td>3.000000</td>\n",
       "      <td>12.000000</td>\n",
       "      <td>4.00000</td>\n",
       "      <td>37.737996</td>\n",
       "      <td>75.000000</td>\n",
       "      <td>76.000000</td>\n",
       "      <td>76.000000</td>\n",
       "      <td>2.000000</td>\n",
       "      <td>1.000000</td>\n",
       "    </tr>\n",
       "    <tr>\n",
       "      <th>max</th>\n",
       "      <td>50.000000</td>\n",
       "      <td>1.000000</td>\n",
       "      <td>4.000000</td>\n",
       "      <td>15.000000</td>\n",
       "      <td>5.00000</td>\n",
       "      <td>50.992462</td>\n",
       "      <td>100.000000</td>\n",
       "      <td>100.000000</td>\n",
       "      <td>100.000000</td>\n",
       "      <td>3.000000</td>\n",
       "      <td>1.000000</td>\n",
       "    </tr>\n",
       "  </tbody>\n",
       "</table>\n",
       "</div>"
      ],
      "text/plain": [
       "               Age       Gender  EducationLevel  ExperienceYears  \\\n",
       "count  1500.000000  1500.000000     1500.000000      1500.000000   \n",
       "mean     35.148667     0.492000        2.188000         7.694000   \n",
       "std       9.252728     0.500103        0.862449         4.641414   \n",
       "min      20.000000     0.000000        1.000000         0.000000   \n",
       "25%      27.000000     0.000000        2.000000         4.000000   \n",
       "50%      35.000000     0.000000        2.000000         8.000000   \n",
       "75%      43.000000     1.000000        3.000000        12.000000   \n",
       "max      50.000000     1.000000        4.000000        15.000000   \n",
       "\n",
       "       PreviousCompanies  DistanceFromCompany  InterviewScore   SkillScore  \\\n",
       "count         1500.00000          1500.000000     1500.000000  1500.000000   \n",
       "mean             3.00200            25.505379       50.564000    51.116000   \n",
       "std              1.41067            14.567151       28.626215    29.353563   \n",
       "min              1.00000             1.031376        0.000000     0.000000   \n",
       "25%              2.00000            12.838851       25.000000    25.750000   \n",
       "50%              3.00000            25.502239       52.000000    53.000000   \n",
       "75%              4.00000            37.737996       75.000000    76.000000   \n",
       "max              5.00000            50.992462      100.000000   100.000000   \n",
       "\n",
       "       PersonalityScore  RecruitmentStrategy  HiringDecision  \n",
       "count       1500.000000          1500.000000     1500.000000  \n",
       "mean          49.387333             1.893333        0.310000  \n",
       "std           29.353201             0.689642        0.462647  \n",
       "min            0.000000             1.000000        0.000000  \n",
       "25%           23.000000             1.000000        0.000000  \n",
       "50%           49.000000             2.000000        0.000000  \n",
       "75%           76.000000             2.000000        1.000000  \n",
       "max          100.000000             3.000000        1.000000  "
      ]
     },
     "execution_count": 44,
     "metadata": {},
     "output_type": "execute_result"
    }
   ],
   "source": [
    "dataset.describe()"
   ]
  },
  {
   "cell_type": "markdown",
   "metadata": {},
   "source": [
    "### Checking for any missing value(s)"
   ]
  },
  {
   "cell_type": "code",
   "execution_count": 45,
   "metadata": {},
   "outputs": [
    {
     "data": {
      "text/plain": [
       "Age                    0\n",
       "Gender                 0\n",
       "EducationLevel         0\n",
       "ExperienceYears        0\n",
       "PreviousCompanies      0\n",
       "DistanceFromCompany    0\n",
       "InterviewScore         0\n",
       "SkillScore             0\n",
       "PersonalityScore       0\n",
       "RecruitmentStrategy    0\n",
       "HiringDecision         0\n",
       "dtype: int64"
      ]
     },
     "execution_count": 45,
     "metadata": {},
     "output_type": "execute_result"
    }
   ],
   "source": [
    "dataset.isnull().sum()"
   ]
  },
  {
   "cell_type": "markdown",
   "metadata": {},
   "source": [
    "--> There are no missing values in the data"
   ]
  },
  {
   "cell_type": "markdown",
   "metadata": {},
   "source": [
    "### Understanding the correlations between other variables and hiring decision"
   ]
  },
  {
   "cell_type": "code",
   "execution_count": 46,
   "metadata": {},
   "outputs": [
    {
     "data": {
      "text/plain": [
       "Age                    0.001850\n",
       "Gender                -0.002249\n",
       "EducationLevel         0.236710\n",
       "ExperienceYears        0.122494\n",
       "PreviousCompanies      0.044025\n",
       "DistanceFromCompany   -0.016791\n",
       "InterviewScore         0.146064\n",
       "SkillScore             0.203668\n",
       "PersonalityScore       0.169177\n",
       "RecruitmentStrategy   -0.477552\n",
       "HiringDecision         1.000000\n",
       "Name: HiringDecision, dtype: float64"
      ]
     },
     "execution_count": 46,
     "metadata": {},
     "output_type": "execute_result"
    }
   ],
   "source": [
    "dataset.corr()['HiringDecision']"
   ]
  },
  {
   "cell_type": "markdown",
   "metadata": {},
   "source": [
    "--> This describes how all parameters are correlated with the 'Hiring Decision'"
   ]
  },
  {
   "cell_type": "markdown",
   "metadata": {},
   "source": [
    "## Exploring through Age"
   ]
  },
  {
   "cell_type": "markdown",
   "metadata": {},
   "source": [
    "### Selecting the required columns"
   ]
  },
  {
   "cell_type": "code",
   "execution_count": 47,
   "metadata": {},
   "outputs": [],
   "source": [
    "dataset_age = dataset[['Age', 'PreviousCompanies', 'DistanceFromCompany', 'InterviewScore', 'SkillScore', 'PersonalityScore', 'HiringDecision']]"
   ]
  },
  {
   "cell_type": "markdown",
   "metadata": {},
   "source": [
    "### Setting the intervals"
   ]
  },
  {
   "cell_type": "code",
   "execution_count": 48,
   "metadata": {},
   "outputs": [],
   "source": [
    "bins = [20, 25, 30, 35, 40, 45, 50]\n",
    "intervals = ['20-25', '25-30', '30-35', '35-40', '40-45', '45-50']"
   ]
  },
  {
   "cell_type": "markdown",
   "metadata": {},
   "source": [
    "### Adding a new column for the age group"
   ]
  },
  {
   "cell_type": "code",
   "execution_count": 49,
   "metadata": {},
   "outputs": [
    {
     "name": "stderr",
     "output_type": "stream",
     "text": [
      "C:\\Users\\yashyashahshah2005\\AppData\\Local\\Temp\\ipykernel_6608\\2599421336.py:1: SettingWithCopyWarning: \n",
      "A value is trying to be set on a copy of a slice from a DataFrame.\n",
      "Try using .loc[row_indexer,col_indexer] = value instead\n",
      "\n",
      "See the caveats in the documentation: https://pandas.pydata.org/pandas-docs/stable/user_guide/indexing.html#returning-a-view-versus-a-copy\n",
      "  dataset_age['AgeGroup'] = pd.cut(dataset_age['Age'], bins=bins, labels=intervals, right=False)\n"
     ]
    }
   ],
   "source": [
    "dataset_age['AgeGroup'] = pd.cut(dataset_age['Age'], bins=bins, labels=intervals, right=False)"
   ]
  },
  {
   "cell_type": "markdown",
   "metadata": {},
   "source": [
    "### Creating dataframes according to the column considered"
   ]
  },
  {
   "cell_type": "code",
   "execution_count": 50,
   "metadata": {},
   "outputs": [
    {
     "name": "stderr",
     "output_type": "stream",
     "text": [
      "C:\\Users\\yashyashahshah2005\\AppData\\Local\\Temp\\ipykernel_6608\\2727643561.py:1: FutureWarning: The default of observed=False is deprecated and will be changed to True in a future version of pandas. Pass observed=False to retain current behavior or observed=True to adopt the future default and silence this warning.\n",
      "  dataset_age_na = dataset_age.groupby('AgeGroup').size()\n",
      "C:\\Users\\yashyashahshah2005\\AppData\\Local\\Temp\\ipykernel_6608\\2727643561.py:2: FutureWarning: The default of observed=False is deprecated and will be changed to True in a future version of pandas. Pass observed=False to retain current behavior or observed=True to adopt the future default and silence this warning.\n",
      "  dataset_age_dfc = dataset_age[['AgeGroup', 'DistanceFromCompany']].groupby('AgeGroup').mean(numeric_only = True)\n",
      "C:\\Users\\yashyashahshah2005\\AppData\\Local\\Temp\\ipykernel_6608\\2727643561.py:3: FutureWarning: The default of observed=False is deprecated and will be changed to True in a future version of pandas. Pass observed=False to retain current behavior or observed=True to adopt the future default and silence this warning.\n",
      "  dataset_age_pc = dataset_age[['AgeGroup', 'PreviousCompanies']].groupby('AgeGroup').mean(numeric_only = True)\n",
      "C:\\Users\\yashyashahshah2005\\AppData\\Local\\Temp\\ipykernel_6608\\2727643561.py:4: FutureWarning: The default of observed=False is deprecated and will be changed to True in a future version of pandas. Pass observed=False to retain current behavior or observed=True to adopt the future default and silence this warning.\n",
      "  dataset_age_is = dataset_age[['AgeGroup', 'InterviewScore']].groupby('AgeGroup').mean(numeric_only = True)\n",
      "C:\\Users\\yashyashahshah2005\\AppData\\Local\\Temp\\ipykernel_6608\\2727643561.py:5: FutureWarning: The default of observed=False is deprecated and will be changed to True in a future version of pandas. Pass observed=False to retain current behavior or observed=True to adopt the future default and silence this warning.\n",
      "  dataset_age_ss = dataset_age[['AgeGroup', 'SkillScore']].groupby('AgeGroup').mean(numeric_only = True)\n",
      "C:\\Users\\yashyashahshah2005\\AppData\\Local\\Temp\\ipykernel_6608\\2727643561.py:6: FutureWarning: The default of observed=False is deprecated and will be changed to True in a future version of pandas. Pass observed=False to retain current behavior or observed=True to adopt the future default and silence this warning.\n",
      "  dataset_age_ps = dataset_age[['AgeGroup', 'PersonalityScore']].groupby('AgeGroup').mean(numeric_only = True)\n"
     ]
    }
   ],
   "source": [
    "dataset_age_na = dataset_age.groupby('AgeGroup').size()\n",
    "dataset_age_dfc = dataset_age[['AgeGroup', 'DistanceFromCompany']].groupby('AgeGroup').mean(numeric_only = True)\n",
    "dataset_age_pc = dataset_age[['AgeGroup', 'PreviousCompanies']].groupby('AgeGroup').mean(numeric_only = True)\n",
    "dataset_age_is = dataset_age[['AgeGroup', 'InterviewScore']].groupby('AgeGroup').mean(numeric_only = True)\n",
    "dataset_age_ss = dataset_age[['AgeGroup', 'SkillScore']].groupby('AgeGroup').mean(numeric_only = True)\n",
    "dataset_age_ps = dataset_age[['AgeGroup', 'PersonalityScore']].groupby('AgeGroup').mean(numeric_only = True)"
   ]
  },
  {
   "cell_type": "markdown",
   "metadata": {},
   "source": [
    "### Printing the generated dataframes"
   ]
  },
  {
   "cell_type": "code",
   "execution_count": 51,
   "metadata": {},
   "outputs": [
    {
     "name": "stdout",
     "output_type": "stream",
     "text": [
      "AgeGroup\n",
      "20-25    273\n",
      "25-30    217\n",
      "30-35    219\n",
      "35-40    227\n",
      "40-45    242\n",
      "45-50    276\n",
      "dtype: int64 \n",
      "\n",
      "\n",
      "          DistanceFromCompany\n",
      "AgeGroup                     \n",
      "20-25               25.265790\n",
      "25-30               26.627730\n",
      "30-35               26.041371\n",
      "35-40               24.817404\n",
      "40-45               25.922054\n",
      "45-50               24.201955 \n",
      "\n",
      "\n",
      "          PreviousCompanies\n",
      "AgeGroup                   \n",
      "20-25              3.010989\n",
      "25-30              3.082949\n",
      "30-35              3.027397\n",
      "35-40              3.044053\n",
      "40-45              2.991736\n",
      "45-50              2.855072 \n",
      "\n",
      "\n"
     ]
    }
   ],
   "source": [
    "print(dataset_age_na, \"\\n\\n\")\n",
    "print(dataset_age_dfc, \"\\n\\n\")\n",
    "print(dataset_age_pc, \"\\n\\n\")"
   ]
  },
  {
   "cell_type": "code",
   "execution_count": 52,
   "metadata": {},
   "outputs": [
    {
     "name": "stdout",
     "output_type": "stream",
     "text": [
      "          InterviewScore\n",
      "AgeGroup                \n",
      "20-25          50.347985\n",
      "25-30          52.188940\n",
      "30-35          50.557078\n",
      "35-40          51.488987\n",
      "40-45          51.223140\n",
      "45-50          48.358696 \n",
      "\n",
      "\n",
      "          SkillScore\n",
      "AgeGroup            \n",
      "20-25      50.531136\n",
      "25-30      55.138249\n",
      "30-35      49.826484\n",
      "35-40      48.488987\n",
      "40-45      49.789256\n",
      "45-50      53.876812 \n",
      "\n",
      "\n",
      "          PersonalityScore\n",
      "AgeGroup                  \n",
      "20-25            46.908425\n",
      "25-30            45.635945\n",
      "30-35            52.351598\n",
      "35-40            50.352423\n",
      "40-45            52.371901\n",
      "45-50            50.054348 \n",
      "\n",
      "\n"
     ]
    }
   ],
   "source": [
    "print(dataset_age_is, \"\\n\\n\")\n",
    "print(dataset_age_ss, \"\\n\\n\")\n",
    "print(dataset_age_ps, \"\\n\\n\")"
   ]
  },
  {
   "cell_type": "markdown",
   "metadata": {},
   "source": [
    "### Bar Graph Visualization of different columns"
   ]
  },
  {
   "cell_type": "code",
   "execution_count": 53,
   "metadata": {},
   "outputs": [
    {
     "data": {
      "image/png": "[encoded data removed]",
      "text/plain": [
       "<Figure size 1800x1200 with 6 Axes>"
      ]
     },
     "metadata": {},
     "output_type": "display_data"
    }
   ],
   "source": [
    "fig, axes = plt.subplots(2, 3, figsize=(18, 12))\n",
    "\n",
    "# Plot the total number of applicants\n",
    "dataset_age_na.plot(kind='bar', color='orange', edgecolor='black', ax=axes[0, 0])\n",
    "axes[0, 0].set_title('Age Group V/S No. of Applicants (Graph 1)')\n",
    "axes[0, 0].set_xlabel('Age Group')\n",
    "axes[0, 0].set_ylabel('No. of Applicants')\n",
    "axes[0, 0].tick_params(axis='x', rotation=45)\n",
    "\n",
    "# Plot the mean number of previous companies by age group\n",
    "dataset_age_pc.plot(kind='bar', color='skyblue', edgecolor='black', ax=axes[0, 1])\n",
    "axes[0, 1].set_title('Mean Number of Previous Companies by Age Group (Graph 2)')\n",
    "axes[0, 1].set_xlabel('Age Group')\n",
    "axes[0, 1].set_ylabel('Mean Number of Previous Companies')\n",
    "axes[0, 1].tick_params(axis='x', rotation=45)\n",
    "\n",
    "# Plot the mean distance from company by age group\n",
    "dataset_age_dfc.plot(kind='bar', color='blue', edgecolor='black', ax=axes[0, 2])\n",
    "axes[0, 2].set_title('Mean Distance from Company by Age Group (Graph 3)')\n",
    "axes[0, 2].set_xlabel('Age Group')\n",
    "axes[0, 2].set_ylabel('Mean Distance from Company')\n",
    "axes[0, 2].tick_params(axis='x', rotation=45)\n",
    "\n",
    "# Plot the mean interview score by age group\n",
    "dataset_age_is.plot(kind='bar', color='pink', edgecolor='black', ax=axes[1, 0])\n",
    "axes[1, 0].set_title('Mean Interview Score by Age Group (Graph 4)')\n",
    "axes[1, 0].set_xlabel('Age Group')\n",
    "axes[1, 0].set_ylabel('Mean Interview Score')\n",
    "axes[1, 0].tick_params(axis='x', rotation=45)\n",
    "\n",
    "# Plot the mean skill score by age group\n",
    "dataset_age_ss.plot(kind='bar', color='violet', edgecolor='black', ax=axes[1, 1])\n",
    "axes[1, 1].set_title('Mean Skill Score by Age Group (Graph 5)')\n",
    "axes[1, 1].set_xlabel('Age Group')\n",
    "axes[1, 1].set_ylabel('Mean Skill Score')\n",
    "axes[1, 1].tick_params(axis='x', rotation=45)\n",
    "\n",
    "# Plot the mean personality score by age group\n",
    "dataset_age_ps.plot(kind='bar', color='grey', edgecolor='black', ax=axes[1, 2])\n",
    "axes[1, 2].set_title('Mean Personality Score by Age Group (Graph 6)')\n",
    "axes[1, 2].set_xlabel('Age Group')\n",
    "axes[1, 2].set_ylabel('Mean Personality Score')\n",
    "axes[1, 2].tick_params(axis='x', rotation=45)\n",
    "\n",
    "plt.tight_layout()"
   ]
  },
  {
   "cell_type": "markdown",
   "metadata": {},
   "source": [
    "--> \n",
    "Learning through graph 1 : \n",
    "  Most of the applicants are freshers (of age 20-25) or are very experienced (of age 45-50).\n",
    "  \n",
    "\n",
    "Learning through graph 2 :\n",
    "  Applicants of all age group has some prior experience in other companies (even the freshers). This indicates that the freshers of these generation tend to switch companies on a regular basis rather than evolving oneself at a particular company. This will indicate the HR team to prioritize applicants of higher age group. \n",
    "\n",
    "\n",
    "Learning through graph 3 : \n",
    "  Mean distance of applicants from company reduces as we go towards higher age group. This indicates that as the age increases people prefer to travel to company less and find a job nearby.\n",
    "\n",
    "\n",
    "Learning through graph 4 : \n",
    "  Interview score of all applicants are almost in the same range. \n",
    "\n",
    "\n",
    "Learning through graph 5 : \n",
    "  Applicants who have joined services since a while and those who are very much experienced have the highest skill score.\n",
    "\n",
    "\n",
    "Learning through graph 6 : \n",
    "  As we move towards higher age group, we find an increase in personality score. Through this, we understand that as a person gets experienced, his/her personality gets better. "
   ]
  },
  {
   "cell_type": "markdown",
   "metadata": {},
   "source": [
    "## Exploring through Gender"
   ]
  },
  {
   "cell_type": "markdown",
   "metadata": {},
   "source": [
    "### Grouping data through Gender"
   ]
  },
  {
   "cell_type": "code",
   "execution_count": 54,
   "metadata": {},
   "outputs": [
    {
     "name": "stdout",
     "output_type": "stream",
     "text": [
      "        HiringDecision\n",
      "Gender                \n",
      "0                  237\n",
      "1                  228\n"
     ]
    }
   ],
   "source": [
    "dataset_gender = dataset[['Gender', 'HiringDecision']]\n",
    "dataset_gender = dataset_gender.groupby('Gender').sum(numeric_only = True)\n",
    "print(dataset_gender)"
   ]
  },
  {
   "cell_type": "markdown",
   "metadata": {},
   "source": [
    "### Calculating total male & female applicants"
   ]
  },
  {
   "cell_type": "code",
   "execution_count": 55,
   "metadata": {},
   "outputs": [
    {
     "name": "stdout",
     "output_type": "stream",
     "text": [
      "Total male applicants :  738\n",
      "Total female applicants :  762\n"
     ]
    }
   ],
   "source": [
    "male = dataset['Gender'].sum()\n",
    "female = 1500 - male\n",
    "print('Total male applicants : ', male)\n",
    "print('Total female applicants : ', female)"
   ]
  },
  {
   "cell_type": "markdown",
   "metadata": {},
   "source": [
    "### Calculating % of male and female hired"
   ]
  },
  {
   "cell_type": "code",
   "execution_count": 56,
   "metadata": {},
   "outputs": [
    {
     "name": "stdout",
     "output_type": "stream",
     "text": [
      "Percentage of male hired: 32.11%\n",
      "Percentage of female hired: 29.92%\n",
      "Percentage of applicants hired: 31.00%\n"
     ]
    }
   ],
   "source": [
    "percent_male_hired = 237/male \n",
    "percent_female_hired = 228/female\n",
    "percent_applicant_hired = (237+228)/1500\n",
    "print(f\"Percentage of male hired: {percent_male_hired * 100:.2f}%\")\n",
    "print(f\"Percentage of female hired: {percent_female_hired * 100:.2f}%\")\n",
    "print(f\"Percentage of applicants hired: {percent_applicant_hired * 100:.2f}%\")"
   ]
  },
  {
   "cell_type": "markdown",
   "metadata": {},
   "source": [
    "--> % of male hired is greater than that of female hired"
   ]
  },
  {
   "cell_type": "markdown",
   "metadata": {},
   "source": [
    "### Calculating mean age of applicants"
   ]
  },
  {
   "cell_type": "code",
   "execution_count": 57,
   "metadata": {},
   "outputs": [
    {
     "name": "stdout",
     "output_type": "stream",
     "text": [
      "Mean age of a male applicant :  36.18563685636856\n",
      "Mean age of a female applicant :  34.14435695538058\n"
     ]
    }
   ],
   "source": [
    "age_sum_male = 0\n",
    "age_sum_female = 0\n",
    "for i in range(len(dataset)):\n",
    "    if(dataset.Gender[i] == 0):\n",
    "        age_sum_male += dataset.Age[i]\n",
    "    else:\n",
    "        age_sum_female += dataset.Age[i]\n",
    "\n",
    "print(\"Mean age of a male applicant : \", age_sum_male/male)\n",
    "print(\"Mean age of a female applicant : \", age_sum_female/female)"
   ]
  },
  {
   "cell_type": "markdown",
   "metadata": {},
   "source": [
    "### Scale Interview, Skill and Personality "
   ]
  },
  {
   "cell_type": "markdown",
   "metadata": {},
   "source": [
    "### Creating a dataset for scaled values"
   ]
  },
  {
   "cell_type": "code",
   "execution_count": 58,
   "metadata": {},
   "outputs": [
    {
     "name": "stdout",
     "output_type": "stream",
     "text": [
      "      Gender  EducationLevel  InterviewScore  SkillScore  PersonalityScore  \\\n",
      "0          1               2              48          78                91   \n",
      "1          1               4              35          68                80   \n",
      "2          0               2              20          67                13   \n",
      "3          1               2              36          27                70   \n",
      "4          0               1              23          52                85   \n",
      "...      ...             ...             ...         ...               ...   \n",
      "1495       0               2              66           3                80   \n",
      "1496       1               2              43          97                 7   \n",
      "1497       1               1              31          91                58   \n",
      "1498       0               2               9          37                44   \n",
      "1499       1               2              63          40                26   \n",
      "\n",
      "      PreviousCompanies  RecruitmentStrategy  \n",
      "0                     3                    1  \n",
      "1                     3                    2  \n",
      "2                     2                    2  \n",
      "3                     2                    3  \n",
      "4                     1                    2  \n",
      "...                 ...                  ...  \n",
      "1495                  4                    3  \n",
      "1496                  3                    2  \n",
      "1497                  2                    1  \n",
      "1498                  4                    2  \n",
      "1499                  5                    2  \n",
      "\n",
      "[1500 rows x 7 columns]\n"
     ]
    }
   ],
   "source": [
    "dataset_gender_scaled = dataset[['Gender', 'EducationLevel', 'InterviewScore','SkillScore','PersonalityScore','PreviousCompanies', 'RecruitmentStrategy']]\n",
    "print(dataset_gender_scaled)"
   ]
  },
  {
   "cell_type": "markdown",
   "metadata": {},
   "source": [
    "### Scaling down Interview, SKill and Personality score (out of 4)"
   ]
  },
  {
   "cell_type": "code",
   "execution_count": 59,
   "metadata": {},
   "outputs": [
    {
     "name": "stdout",
     "output_type": "stream",
     "text": [
      "[1.92, 1.4, 0.8, 1.44, 0.92, 2.16, 0.96, 0.24, 3.2, 3.68, 3.72, 2.8, 3.84, 2.8, 0.92, 0.4, 2.88, 0.44, 1.36, 2.48, 2.68, 3.96, 3.64, 2.24, 0.48, 0.88, 3.28, 4.0, 1.52, 3.48, 3.16, 3.84, 0.44, 1.32, 2.8, 2.96, 1.2, 3.68, 2.44, 0.48, 1.2, 0.04, 0.56, 2.24, 2.96, 1.32, 2.68, 2.96, 1.12, 2.6, 0.6, 1.52, 3.04, 1.44, 3.2, 0.8, 1.72, 0.72, 2.8, 0.28, 3.04, 4.0, 2.6, 1.6, 2.96, 3.48, 2.76, 2.4, 1.0, 2.8, 3.28, 2.76, 1.12, 2.6, 0.72, 2.68, 2.28, 2.76, 2.24, 1.44, 2.4, 3.64, 1.16, 2.8, 2.88, 0.96, 3.84, 2.56, 0.2, 0.68, 0.36, 3.64, 0.4, 3.84, 2.56, 3.04, 4.0, 3.32, 2.56, 2.04, 2.64, 3.24, 3.08, 1.2, 3.6, 0.64, 2.16, 3.68, 1.4, 4.0, 1.0, 2.08, 0.64, 3.4, 0.96, 0.04, 3.4, 0.16, 0.12, 1.4, 0.2, 0.8, 3.04, 4.0, 3.52, 1.0, 2.16, 1.52, 3.32, 1.28, 0.52, 2.2, 3.96, 3.2, 0.8, 1.8, 0.6, 0.6, 3.32, 1.12, 3.64, 0.28, 3.48, 0.08, 3.52, 0.72, 3.84, 2.6, 3.12, 3.4, 2.92, 3.24, 0.84, 1.8, 3.6, 0.48, 1.28, 0.16, 3.56, 3.04, 1.04, 3.08, 0.92, 2.64, 2.48, 3.72, 3.92, 1.88, 2.48, 3.08, 0.44, 1.08, 1.72, 3.68, 1.68, 0.64, 1.56, 1.92, 3.36, 2.24, 3.44, 3.32, 2.52, 2.96, 2.24, 3.88, 2.92, 2.92, 2.76, 3.96, 3.48, 3.0, 1.68, 0.88, 1.04, 2.28, 1.44, 0.2, 2.56, 0.2, 1.96, 0.84, 3.48, 0.96, 3.12, 3.56, 2.84, 2.0, 3.48, 1.88, 2.76, 3.92, 2.56, 2.36, 1.8, 1.4, 2.28, 3.0, 1.48, 0.4, 0.44, 1.64, 1.52, 2.8, 0.4, 1.4, 2.04, 1.2, 1.28, 0.48, 0.68, 1.6, 2.28, 2.2, 0.92, 2.88, 1.2, 2.16, 0.36, 2.36, 0.04, 0.56, 0.08, 1.68, 1.2, 2.76, 2.64, 2.2, 2.48, 2.96, 0.56, 3.64, 0.36, 1.48, 1.84, 2.24, 1.96, 2.8, 0.56, 0.68, 3.24, 3.48, 0.04, 3.32, 3.88, 1.68, 1.0, 2.8, 1.48, 3.72, 1.64, 0.16, 0.4, 2.56, 1.32, 0.0, 3.28, 0.04, 3.36, 0.76, 2.4, 3.44, 0.8, 3.48, 2.68, 0.44, 0.84, 0.76, 3.24, 0.0, 1.16, 3.84, 0.92, 0.52, 1.4, 2.72, 2.96, 0.92, 2.36, 3.76, 2.16, 3.04, 3.16, 0.92, 3.04, 0.92, 2.12, 1.0, 2.6, 3.16, 1.48, 2.56, 2.96, 2.0, 1.36, 1.68, 1.12, 1.44, 3.2, 2.28, 2.12, 1.52, 1.64, 1.08, 1.12, 1.68, 0.08, 0.36, 2.32, 0.52, 3.0, 1.84, 1.64, 3.72, 1.24, 1.24, 1.64, 1.24, 1.0, 0.0, 2.2, 0.04, 3.2, 1.16, 2.8, 2.04, 3.6, 0.32, 0.84, 1.32, 1.92, 0.0, 2.88, 3.32, 2.08, 3.28, 3.96, 1.56, 1.76, 2.68, 0.32, 0.84, 0.68, 3.0, 1.68, 1.52, 2.88, 0.2, 3.28, 1.88, 0.24, 3.16, 2.72, 0.6, 0.0, 1.44, 3.28, 1.44, 3.2, 2.52, 3.56, 3.4, 2.44, 2.84, 2.4, 1.28, 2.6, 1.16, 0.76, 2.36, 3.24, 2.92, 0.92, 0.12, 1.44, 0.12, 3.04, 3.52, 3.04, 0.68, 3.48, 2.6, 1.88, 1.28, 2.28, 3.28, 2.88, 1.08, 1.36, 0.36, 2.56, 1.64, 3.36, 0.32, 2.36, 0.56, 3.92, 2.24, 2.72, 0.84, 2.52, 1.6, 3.44, 2.8, 2.2, 0.88, 0.96, 3.6, 0.2, 1.32, 2.48, 0.32, 2.36, 1.92, 3.84, 2.0, 2.36, 2.76, 1.44, 1.2, 3.88, 1.6, 2.44, 3.68, 2.28, 0.52, 1.4, 1.4, 3.12, 0.28, 1.0, 1.4, 1.88, 3.36, 1.08, 2.68, 2.44, 3.16, 3.4, 3.0, 3.16, 2.0, 1.64, 4.0, 1.12, 3.24, 0.36, 1.52, 3.24, 0.0, 1.52, 0.8, 2.56, 0.56, 0.12, 2.36, 2.4, 0.76, 0.36, 3.44, 1.32, 1.88, 1.28, 3.88, 2.4, 0.36, 2.12, 3.32, 2.56, 3.04, 0.0, 0.16, 3.16, 0.56, 1.08, 3.76, 0.88, 0.64, 3.88, 0.48, 0.52, 0.4, 1.08, 1.64, 3.8, 3.92, 2.4, 2.52, 1.2, 3.2, 2.88, 0.36, 0.28, 0.8, 3.04, 2.32, 1.96, 2.72, 2.76, 1.16, 3.76, 0.64, 2.96, 0.76, 1.88, 2.88, 0.04, 1.44, 0.0, 0.12, 3.96, 2.12, 0.96, 0.08, 0.32, 3.4, 3.44, 3.0, 2.92, 1.32, 1.68, 2.92, 3.72, 0.84, 2.76, 0.04, 3.72, 2.6, 1.24, 0.6, 3.0, 0.0, 2.84, 1.88, 1.96, 0.48, 0.56, 2.08, 1.72, 0.28, 2.92, 1.8, 2.72, 0.72, 1.48, 0.4, 1.68, 0.76, 0.76, 0.8, 3.24, 2.24, 1.96, 2.92, 3.88, 1.0, 1.16, 2.88, 1.2, 1.64, 2.68, 2.4, 2.4, 2.76, 3.08, 2.68, 3.56, 0.64, 0.72, 2.0, 2.76, 2.48, 3.68, 2.96, 3.16, 1.16, 0.96, 2.96, 2.8, 1.0, 2.2, 0.84, 3.52, 0.72, 1.2, 1.0, 1.64, 1.6, 3.96, 0.88, 1.84, 0.48, 3.52, 2.6, 2.6, 0.6, 2.88, 1.08, 3.04, 1.36, 1.6, 3.04, 1.2, 3.36, 1.24, 2.12, 3.88, 2.84, 2.32, 1.6, 2.6, 3.8, 2.12, 1.56, 1.08, 1.44, 2.56, 2.92, 2.16, 0.12, 3.92, 0.36, 1.84, 2.96, 0.52, 1.48, 0.44, 1.76, 0.64, 3.16, 1.36, 2.6, 2.96, 1.6, 2.64, 1.12, 0.68, 0.76, 0.52, 1.32, 1.92, 2.12, 1.2, 2.28, 1.64, 2.28, 3.24, 1.16, 0.96, 2.48, 0.72, 2.84, 3.64, 0.28, 3.76, 0.08, 2.64, 3.4, 3.2, 3.96, 0.64, 0.52, 0.32, 2.44, 3.72, 0.8, 3.0, 1.44, 3.8, 0.4, 0.76, 1.36, 2.08, 1.84, 2.96, 2.04, 0.28, 0.12, 1.04, 1.72, 1.56, 1.84, 3.72, 1.72, 1.88, 3.6, 3.36, 2.04, 3.32, 2.68, 0.4, 3.04, 2.88, 0.12, 3.0, 2.88, 3.04, 1.88, 1.0, 3.04, 1.52, 3.64, 2.28, 0.72, 3.48, 3.28, 3.04, 3.04, 2.28, 1.08, 2.6, 0.36, 3.4, 3.04, 2.28, 2.88, 3.84, 0.52, 3.32, 0.56, 3.8, 1.28, 0.64, 0.92, 1.16, 2.44, 0.48, 2.44, 1.84, 0.6, 2.6, 3.2, 3.8, 1.68, 0.28, 0.08, 0.44, 3.32, 0.6, 3.08, 3.16, 2.32, 1.92, 2.48, 2.44, 1.92, 2.0, 1.28, 1.16, 2.32, 3.0, 0.56, 3.24, 3.64, 0.88, 3.08, 3.72, 3.84, 1.76, 2.44, 3.12, 2.8, 0.56, 1.8, 2.52, 1.8, 2.2, 1.72, 2.96, 1.12, 3.76, 2.44, 3.52, 2.04, 2.12, 3.48, 2.24, 3.28, 2.6, 0.84, 0.76, 1.28, 2.84, 0.96, 1.8, 2.88, 3.88, 2.24, 3.44, 0.16, 2.16, 2.4, 3.52, 0.28, 0.6, 1.88, 2.4, 0.56, 2.56, 0.84, 0.08, 2.12, 0.52, 1.4, 3.24, 3.24, 2.64, 0.36, 1.92, 2.56, 3.6, 2.24, 1.04, 2.96, 0.16, 2.8, 3.28, 2.24, 3.68, 0.56, 3.92, 4.0, 3.0, 1.16, 0.76, 1.44, 0.08, 2.88, 1.6, 1.52, 1.0, 0.04, 0.88, 0.88, 3.36, 0.6, 0.32, 0.48, 1.08, 1.04, 2.0, 2.52, 2.04, 3.2, 1.48, 3.96, 2.56, 0.68, 2.48, 2.0, 0.32, 0.48, 1.56, 2.16, 3.12, 1.68, 1.72, 2.68, 1.28, 0.92, 1.4, 0.36, 3.96, 0.76, 2.96, 0.44, 2.44, 0.68, 3.72, 4.0, 2.48, 3.32, 0.96, 0.44, 0.8, 0.96, 0.4, 2.52, 2.88, 1.96, 2.44, 3.52, 3.92, 3.8, 1.92, 0.52, 0.0, 3.2, 0.96, 2.32, 2.84, 2.72, 0.16, 3.92, 0.72, 0.88, 0.32, 3.72, 1.96, 0.6, 1.28, 0.04, 0.52, 0.0, 3.56, 2.28, 3.52, 0.6, 3.12, 3.56, 1.84, 1.72, 3.16, 0.52, 3.68, 0.92, 2.16, 0.56, 3.28, 2.84, 1.32, 0.04, 1.04, 2.92, 3.92, 3.44, 2.84, 3.64, 0.88, 2.68, 0.52, 2.48, 3.68, 2.56, 2.68, 2.48, 3.8, 3.84, 3.56, 3.2, 3.44, 2.52, 1.24, 3.12, 0.48, 2.6, 0.72, 0.92, 3.48, 0.4, 2.32, 3.4, 0.56, 0.36, 1.6, 1.04, 2.36, 2.88, 2.04, 1.08, 2.56, 0.64, 3.76, 1.72, 0.36, 2.48, 4.0, 3.68, 3.24, 1.84, 1.48, 2.76, 3.0, 2.08, 3.08, 1.72, 2.92, 2.12, 0.76, 3.12, 1.2, 0.24, 2.28, 0.36, 0.36, 1.52, 1.08, 1.16, 1.44, 2.64, 1.68, 3.12, 3.36, 2.04, 4.0, 2.2, 3.0, 2.68, 0.32, 3.64, 0.88, 2.48, 2.4, 1.56, 1.72, 3.4, 0.92, 2.0, 2.28, 3.56, 3.72, 1.28, 0.6, 0.84, 2.24, 2.44, 3.24, 2.8, 3.56, 2.84, 2.76, 1.16, 0.88, 1.24, 3.4, 2.24, 0.32, 1.2, 2.8, 0.32, 0.48, 2.28, 0.08, 1.36, 3.84, 0.8, 2.52, 3.76, 2.04, 1.32, 3.8, 1.36, 0.56, 3.8, 0.2, 3.36, 3.84, 1.24, 2.04, 3.28, 3.84, 1.08, 3.76, 3.36, 3.88, 2.52, 3.12, 3.08, 0.72, 0.56, 0.2, 2.88, 4.0, 3.32, 3.88, 1.48, 1.0, 3.24, 3.64, 2.0, 2.88, 3.8, 2.08, 2.2, 2.32, 2.76, 3.08, 3.64, 2.28, 3.48, 0.48, 1.68, 3.0, 2.0, 0.72, 0.8, 3.6, 3.28, 0.92, 1.0, 1.76, 1.08, 3.24, 3.96, 1.12, 0.64, 2.68, 1.72, 2.4, 3.68, 2.68, 2.92, 0.96, 3.76, 2.64, 0.04, 3.52, 1.92, 2.76, 1.0, 2.84, 3.92, 1.04, 3.52, 0.68, 2.12, 0.0, 2.4, 0.08, 2.68, 1.6, 1.44, 2.0, 0.56, 0.28, 1.48, 3.28, 2.2, 1.84, 3.56, 0.36, 3.08, 1.92, 1.6, 3.28, 1.16, 0.16, 3.76, 2.8, 3.28, 1.2, 2.04, 3.48, 3.88, 0.88, 1.88, 1.56, 0.2, 1.48, 1.6, 3.96, 1.04, 2.96, 2.72, 2.24, 0.64, 2.8, 3.6, 1.84, 3.12, 0.48, 0.4, 3.56, 3.4, 3.64, 0.92, 3.68, 2.88, 0.12, 1.8, 0.68, 1.68, 3.16, 1.28, 3.68, 0.36, 2.88, 2.32, 1.2, 1.08, 2.36, 0.08, 2.16, 0.52, 2.28, 3.52, 0.56, 0.04, 0.92, 3.08, 2.52, 2.8, 3.96, 0.92, 1.04, 1.44, 3.72, 3.6, 1.52, 2.48, 3.12, 1.0, 2.56, 0.12, 1.12, 0.0, 1.96, 3.4, 0.4, 2.92, 2.32, 2.44, 3.2, 1.4, 2.2, 3.56, 0.8, 0.48, 0.32, 0.4, 2.96, 2.76, 0.0, 2.76, 3.04, 3.4, 2.2, 1.2, 3.4, 1.44, 1.84, 3.6, 3.08, 1.84, 2.72, 2.28, 1.4, 1.24, 3.88, 2.52, 2.8, 1.64, 1.88, 2.92, 3.2, 1.16, 0.8, 2.36, 0.48, 0.0, 2.56, 1.28, 1.48, 0.96, 1.0, 3.04, 2.32, 3.64, 1.28, 4.0, 1.6, 1.16, 2.24, 1.92, 1.88, 2.84, 1.92, 1.84, 2.2, 2.56, 0.44, 2.72, 3.48, 0.2, 3.52, 2.56, 0.96, 0.0, 1.24, 0.08, 1.92, 0.72, 2.36, 1.12, 1.96, 0.04, 2.88, 2.2, 0.64, 2.36, 1.4, 2.4, 0.64, 1.92, 3.0, 2.36, 0.76, 1.96, 0.08, 1.68, 2.24, 1.96, 2.68, 3.2, 1.96, 1.44, 1.8, 1.64, 0.56, 1.28, 3.16, 0.4, 0.76, 0.92, 2.52, 3.16, 3.72, 3.88, 2.56, 3.48, 3.48, 2.88, 3.4, 3.0, 0.64, 3.52, 3.64, 2.4, 0.56, 3.72, 2.0, 1.04, 3.4, 2.92, 2.4, 2.28, 1.2, 3.6, 0.44, 1.8, 1.2, 1.24, 1.24, 3.92, 2.08, 2.4, 1.8, 3.36, 2.92, 3.16, 0.24, 0.12, 3.6, 2.04, 3.52, 1.2, 2.96, 3.32, 1.4, 2.12, 2.12, 0.64, 2.96, 1.16, 3.92, 0.84, 1.68, 1.04, 1.44, 1.8, 1.36, 0.12, 3.16, 3.16, 3.36, 1.0, 3.96, 0.72, 3.2, 1.76, 1.0, 0.84, 2.28, 2.48, 1.08, 2.56, 1.72, 3.96, 1.68, 1.44, 2.6, 0.64, 1.56, 1.48, 3.36, 2.4, 0.32, 3.04, 2.96, 2.4, 3.16, 0.6, 0.04, 2.84, 1.68, 1.64, 3.04, 2.24, 3.2, 3.48, 2.64, 1.16, 0.48, 0.72, 0.24, 0.32, 3.28, 2.12, 3.4, 3.24, 2.4, 3.44, 0.04, 1.96, 2.96, 1.2, 1.28, 3.08, 3.16, 0.4, 1.28, 0.24, 1.2, 1.88, 1.84, 3.08, 3.64, 2.08, 3.16, 0.72, 3.2, 3.56, 0.2, 1.92, 2.88, 1.96, 3.2, 3.76, 0.44, 0.88, 2.12, 2.72, 3.96, 2.32, 1.4, 0.08, 2.28, 3.48, 2.16, 2.24, 0.64, 1.52, 3.56, 2.68, 2.16, 1.76, 3.0, 0.0, 0.8, 3.28, 0.8, 2.04, 3.24, 1.68, 2.04, 2.64, 1.72, 1.24, 0.36, 2.52]\n",
      "[3.12, 2.72, 2.68, 1.08, 2.08, 2.0, 2.08, 0.12, 3.12, 0.64, 2.64, 2.92, 1.84, 2.2, 0.88, 0.68, 0.0, 1.36, 2.52, 2.28, 3.76, 2.32, 0.0, 0.08, 2.64, 1.44, 3.28, 1.12, 3.52, 1.28, 3.96, 2.4, 3.68, 3.56, 0.12, 0.52, 3.6, 1.28, 0.84, 1.88, 0.08, 3.44, 3.36, 0.88, 2.68, 0.8, 4.0, 1.68, 3.76, 3.36, 1.0, 1.6, 3.92, 1.48, 3.48, 0.4, 1.12, 2.36, 2.64, 2.56, 2.4, 0.72, 1.8, 1.92, 0.84, 3.08, 2.24, 0.52, 1.72, 0.6, 3.84, 3.04, 0.44, 2.16, 2.0, 1.52, 1.28, 1.28, 1.12, 2.72, 2.76, 1.2, 3.16, 1.2, 3.52, 1.8, 3.84, 3.04, 2.04, 0.36, 3.48, 2.92, 1.6, 3.76, 3.04, 0.08, 2.32, 2.04, 1.32, 1.92, 1.08, 3.28, 3.44, 3.8, 0.48, 3.84, 3.88, 3.84, 2.72, 2.64, 2.4, 2.36, 2.8, 0.92, 2.48, 3.4, 2.4, 0.88, 1.16, 2.36, 0.68, 3.8, 2.2, 2.08, 0.24, 3.84, 2.72, 3.64, 2.84, 3.12, 2.04, 0.12, 1.32, 2.72, 1.28, 2.72, 1.48, 3.88, 1.0, 0.0, 0.12, 1.52, 2.12, 3.56, 1.28, 1.28, 2.84, 0.76, 0.6, 0.8, 1.76, 3.56, 3.44, 3.24, 2.44, 1.2, 1.64, 0.44, 2.56, 2.88, 0.08, 3.56, 0.32, 2.0, 0.6, 3.48, 3.08, 0.08, 3.88, 3.84, 0.92, 2.88, 0.48, 0.04, 2.8, 0.8, 0.72, 3.52, 1.84, 0.84, 2.96, 1.28, 1.24, 2.52, 3.36, 1.52, 3.32, 2.84, 1.64, 4.0, 0.32, 0.96, 3.52, 3.84, 0.04, 0.72, 0.76, 3.68, 2.76, 0.64, 3.52, 2.68, 3.72, 3.32, 0.08, 3.44, 2.0, 3.24, 1.0, 2.2, 3.96, 2.52, 0.28, 3.2, 3.76, 1.44, 3.84, 1.04, 1.76, 0.12, 3.4, 3.56, 3.8, 3.48, 3.92, 1.44, 3.8, 2.8, 1.28, 1.2, 2.16, 0.44, 0.4, 3.48, 2.84, 1.24, 2.24, 1.48, 2.36, 3.4, 3.88, 0.72, 3.32, 2.2, 0.52, 1.28, 0.36, 3.16, 2.52, 2.52, 2.44, 2.68, 3.6, 3.64, 1.68, 3.16, 2.32, 2.04, 3.84, 0.72, 0.8, 0.84, 0.32, 0.32, 2.88, 1.04, 0.64, 1.72, 1.76, 0.28, 3.16, 0.68, 1.28, 0.0, 3.0, 0.2, 1.6, 2.16, 0.16, 2.32, 3.16, 0.68, 1.92, 3.24, 2.56, 3.28, 2.12, 2.4, 0.28, 0.08, 0.96, 2.72, 2.16, 1.56, 3.28, 3.24, 1.96, 3.76, 1.28, 0.68, 2.24, 0.6, 3.16, 1.48, 1.6, 0.24, 3.08, 2.08, 2.48, 3.52, 1.24, 1.48, 0.84, 0.6, 2.04, 1.12, 0.6, 3.0, 0.64, 4.0, 2.52, 3.6, 3.52, 0.48, 2.84, 2.2, 0.16, 0.44, 1.6, 0.08, 3.92, 1.28, 3.4, 1.96, 2.2, 0.32, 3.24, 1.96, 1.12, 1.52, 3.6, 3.96, 1.76, 0.64, 2.2, 3.88, 1.8, 2.64, 2.72, 0.52, 2.64, 0.88, 3.72, 2.4, 0.88, 1.04, 2.12, 0.36, 3.52, 3.04, 0.6, 1.6, 3.88, 2.16, 4.0, 2.4, 3.4, 3.2, 3.44, 3.96, 1.92, 2.88, 2.04, 0.04, 3.8, 1.96, 3.4, 1.68, 3.04, 0.28, 2.32, 2.56, 3.2, 0.44, 0.12, 3.04, 3.76, 1.6, 0.24, 3.44, 3.48, 2.72, 2.72, 3.2, 1.16, 2.88, 0.2, 3.52, 0.72, 3.16, 3.36, 2.6, 0.36, 0.6, 1.44, 3.12, 3.04, 3.04, 1.24, 1.84, 2.84, 1.68, 3.24, 1.4, 1.0, 0.36, 1.2, 3.84, 1.12, 0.16, 3.04, 0.0, 3.44, 0.08, 2.64, 2.8, 3.96, 1.36, 0.56, 2.64, 3.68, 1.16, 3.24, 2.96, 1.68, 2.36, 1.56, 2.56, 1.12, 2.92, 3.64, 3.76, 0.72, 0.08, 1.4, 1.68, 0.56, 3.84, 1.6, 3.56, 3.16, 1.4, 3.84, 3.32, 3.04, 1.28, 0.16, 4.0, 3.08, 3.6, 3.44, 0.52, 2.68, 3.28, 1.84, 2.12, 0.12, 3.72, 3.28, 3.76, 3.76, 0.32, 2.08, 3.04, 3.08, 2.36, 1.8, 2.12, 2.92, 3.76, 1.44, 0.88, 1.04, 2.76, 3.56, 2.6, 2.4, 3.04, 2.0, 1.96, 0.72, 0.0, 1.56, 1.24, 0.84, 3.68, 2.6, 1.56, 1.48, 1.88, 2.16, 2.96, 3.2, 2.16, 2.0, 2.36, 0.28, 3.4, 2.68, 2.96, 2.84, 0.32, 3.56, 0.04, 3.16, 3.76, 2.76, 3.36, 3.56, 2.32, 0.72, 1.08, 2.84, 0.52, 0.92, 1.72, 4.0, 2.2, 3.56, 3.76, 2.0, 1.24, 1.96, 1.6, 2.6, 0.96, 2.4, 2.6, 1.64, 2.56, 1.4, 3.0, 0.32, 1.4, 3.64, 1.48, 1.28, 1.64, 2.4, 1.8, 3.4, 3.52, 2.4, 0.68, 2.76, 3.24, 3.16, 0.56, 1.88, 2.84, 0.48, 1.68, 2.36, 2.24, 2.8, 0.64, 1.96, 1.24, 0.84, 2.16, 2.24, 0.48, 1.84, 3.44, 2.44, 2.12, 1.12, 0.84, 2.56, 1.12, 1.88, 0.16, 1.36, 2.92, 3.28, 4.0, 2.8, 1.8, 1.36, 1.76, 0.48, 0.36, 2.6, 2.76, 2.84, 3.96, 0.96, 1.72, 2.36, 1.84, 1.56, 0.24, 1.8, 0.88, 3.28, 1.8, 3.4, 0.48, 0.8, 0.0, 0.72, 2.36, 1.28, 0.12, 0.08, 3.6, 2.04, 3.92, 1.08, 2.76, 2.76, 2.16, 2.24, 3.44, 3.84, 0.6, 0.92, 2.72, 1.6, 3.04, 1.84, 3.0, 2.72, 4.0, 1.2, 3.64, 3.64, 1.16, 0.68, 1.72, 1.04, 3.92, 1.0, 2.36, 0.68, 3.84, 3.52, 2.2, 1.2, 4.0, 2.32, 0.04, 3.84, 1.52, 2.4, 2.48, 3.8, 0.68, 0.64, 3.88, 1.52, 2.8, 2.12, 3.92, 3.72, 3.0, 1.36, 0.4, 2.4, 1.72, 2.68, 0.96, 1.88, 1.24, 3.32, 3.76, 0.12, 1.48, 2.48, 1.84, 0.0, 0.08, 4.0, 3.4, 2.44, 2.52, 0.64, 3.08, 2.44, 1.36, 0.48, 1.36, 1.68, 0.04, 2.2, 3.04, 2.0, 2.12, 0.6, 0.68, 0.24, 1.76, 1.4, 1.6, 3.72, 1.64, 0.24, 0.56, 2.36, 1.56, 3.28, 1.44, 2.6, 2.16, 3.04, 3.76, 3.16, 2.2, 1.72, 2.24, 0.2, 3.64, 1.24, 2.92, 0.68, 2.68, 2.88, 0.24, 0.28, 2.52, 0.24, 1.6, 1.56, 0.08, 0.64, 2.6, 3.12, 3.68, 2.04, 0.84, 0.12, 0.2, 1.48, 1.0, 0.4, 3.56, 0.64, 3.48, 3.64, 3.92, 1.2, 3.04, 1.36, 0.6, 3.12, 0.68, 4.0, 2.44, 1.04, 1.36, 1.76, 1.36, 1.08, 0.32, 3.0, 0.56, 0.8, 2.04, 1.36, 3.84, 2.0, 3.28, 2.16, 3.44, 3.04, 1.72, 2.56, 3.68, 3.48, 3.16, 0.96, 3.44, 3.64, 1.84, 3.16, 2.2, 1.48, 0.4, 2.64, 0.56, 0.0, 0.24, 0.0, 1.92, 3.8, 2.88, 1.12, 1.0, 3.44, 1.76, 3.68, 3.84, 2.8, 0.44, 3.76, 1.24, 0.76, 2.0, 3.2, 1.4, 2.64, 0.0, 1.04, 1.56, 3.84, 3.32, 0.52, 3.96, 2.72, 3.44, 3.12, 0.2, 1.28, 2.16, 0.72, 3.04, 1.12, 2.4, 2.76, 3.12, 3.16, 0.92, 0.88, 0.36, 2.12, 1.6, 1.92, 0.64, 2.2, 1.76, 1.16, 1.72, 2.92, 2.16, 0.72, 1.12, 0.04, 1.4, 0.72, 0.24, 1.0, 3.12, 1.48, 0.08, 3.16, 2.6, 3.76, 3.64, 2.8, 3.72, 1.68, 2.44, 2.8, 3.96, 3.68, 0.92, 1.52, 2.68, 3.68, 1.72, 0.16, 2.16, 3.68, 1.16, 1.12, 1.0, 3.28, 1.0, 1.44, 3.6, 3.72, 2.08, 1.16, 0.08, 1.68, 0.24, 1.92, 2.88, 1.6, 3.04, 3.12, 2.12, 2.72, 3.68, 3.92, 3.6, 1.04, 0.28, 1.24, 3.32, 2.52, 0.36, 0.48, 2.48, 3.68, 1.36, 2.4, 2.12, 0.28, 1.12, 3.76, 1.6, 1.16, 3.4, 0.8, 3.0, 0.4, 0.04, 1.96, 1.6, 2.6, 3.88, 0.08, 3.16, 2.0, 2.68, 3.44, 3.32, 0.96, 1.16, 3.24, 0.4, 3.68, 0.64, 1.0, 0.88, 2.2, 2.04, 1.88, 0.76, 0.04, 3.48, 1.2, 1.04, 0.04, 3.08, 0.12, 0.48, 3.96, 1.36, 2.84, 2.6, 0.2, 1.2, 0.36, 0.8, 2.92, 0.88, 0.08, 1.24, 0.76, 2.92, 1.12, 2.04, 1.8, 1.32, 4.0, 3.32, 2.4, 2.84, 2.8, 2.76, 0.4, 3.24, 3.68, 3.52, 2.48, 0.8, 0.08, 3.24, 3.48, 0.36, 1.04, 0.44, 0.24, 0.64, 2.56, 2.52, 1.0, 0.56, 1.28, 2.44, 4.0, 1.84, 3.76, 1.36, 2.56, 2.84, 3.0, 3.28, 0.96, 2.24, 1.24, 2.48, 0.44, 2.48, 3.04, 3.64, 0.0, 2.0, 2.76, 0.28, 2.68, 0.16, 3.52, 3.4, 3.64, 1.52, 0.88, 2.68, 2.04, 0.12, 1.84, 0.8, 4.0, 2.2, 2.6, 2.32, 0.24, 1.92, 0.6, 0.64, 3.32, 3.44, 3.88, 2.96, 1.32, 1.28, 1.0, 2.6, 2.48, 3.44, 1.6, 3.4, 2.28, 3.88, 3.12, 0.36, 0.56, 1.64, 3.68, 2.24, 3.44, 0.64, 2.36, 0.32, 1.4, 2.88, 3.16, 1.4, 1.88, 2.0, 3.84, 3.76, 2.76, 2.92, 3.16, 2.68, 0.84, 3.04, 3.16, 3.68, 0.2, 1.0, 2.96, 3.48, 3.68, 0.08, 2.04, 2.92, 2.36, 2.48, 2.56, 2.04, 3.56, 3.0, 0.52, 3.52, 2.84, 2.68, 1.08, 2.8, 0.36, 2.24, 3.96, 2.6, 3.56, 1.96, 0.52, 0.6, 2.12, 1.68, 1.64, 3.2, 0.84, 2.68, 0.72, 2.6, 1.52, 2.88, 0.72, 0.6, 2.12, 0.96, 0.68, 0.88, 3.36, 0.4, 1.52, 2.68, 0.96, 2.48, 3.8, 1.16, 1.76, 3.56, 2.4, 3.96, 2.0, 3.88, 0.32, 3.0, 0.04, 0.16, 2.44, 2.72, 2.04, 3.4, 0.16, 2.32, 2.68, 0.32, 3.68, 0.84, 1.04, 0.36, 3.16, 2.4, 2.0, 0.36, 0.2, 2.44, 0.16, 2.76, 2.48, 2.2, 2.32, 2.48, 3.52, 2.32, 2.0, 1.96, 0.12, 1.88, 1.24, 2.0, 2.04, 3.92, 2.92, 1.32, 1.4, 2.76, 1.68, 0.6, 2.32, 2.08, 0.72, 3.88, 3.52, 3.76, 1.6, 3.2, 1.84, 3.72, 2.12, 2.16, 3.76, 0.72, 2.44, 3.92, 3.68, 2.32, 2.56, 2.68, 1.08, 0.68, 1.0, 0.72, 2.16, 2.24, 0.2, 0.0, 0.28, 3.84, 2.0, 3.36, 3.48, 0.96, 1.84, 2.16, 2.52, 3.28, 3.68, 0.36, 2.2, 0.44, 1.28, 2.8, 0.64, 2.4, 0.36, 1.2, 2.36, 2.76, 0.64, 1.96, 1.44, 3.24, 2.44, 3.56, 3.16, 2.84, 3.48, 3.04, 1.12, 1.24, 3.48, 3.16, 0.4, 3.8, 0.2, 1.36, 1.28, 0.68, 1.44, 0.48, 2.92, 4.0, 3.56, 3.2, 2.52, 0.0, 2.48, 3.52, 1.32, 0.36, 3.32, 0.24, 2.2, 3.16, 1.44, 1.12, 0.44, 0.64, 1.88, 3.32, 1.0, 3.28, 0.44, 0.8, 1.64, 2.4, 2.28, 2.12, 1.32, 0.24, 1.36, 0.56, 2.56, 3.56, 3.92, 0.96, 2.32, 3.12, 3.4, 0.2, 2.04, 3.12, 3.48, 0.8, 2.8, 3.68, 3.8, 1.24, 2.08, 2.32, 2.72, 2.44, 0.12, 3.4, 0.68, 3.92, 3.2, 2.2, 0.92, 2.6, 0.48, 2.44, 2.12, 0.56, 2.72, 0.08, 1.44, 1.44, 4.0, 0.08, 2.48, 1.36, 2.04, 3.44, 1.08, 3.72, 0.68, 1.4, 1.28, 2.52, 1.0, 1.88, 1.56, 0.64, 1.56, 0.24, 2.24, 0.28, 2.2, 1.2, 2.32, 2.28, 0.44, 1.88, 1.2, 3.28, 2.48, 2.92, 1.52, 3.0, 0.76, 4.0, 1.88, 2.8, 2.12, 3.08, 2.96, 2.8, 1.12, 2.92, 3.68, 2.88, 3.96, 1.88, 2.92, 3.28, 2.2, 3.76, 0.64, 0.32, 3.84, 1.32, 1.76, 3.48, 0.32, 0.24, 0.6, 0.72, 0.2, 0.4, 3.0, 2.4, 1.64, 0.48, 0.44, 3.36, 2.92, 0.76, 1.96, 1.4, 3.64, 3.48, 2.72, 1.44, 0.44, 3.92, 1.56, 2.12, 0.04, 1.96, 1.6, 1.76, 0.32, 2.44, 3.4, 1.84, 0.16, 3.0, 0.0, 1.72, 0.84, 1.48, 0.72, 3.16, 1.2, 2.64, 3.44, 1.64, 3.24, 1.0, 0.48, 2.28, 0.68, 2.64, 3.44, 0.08, 2.16, 3.52, 3.6, 2.28, 2.48, 3.6, 2.04, 3.52, 0.92, 2.84, 0.32, 1.44, 3.72, 3.28, 2.08, 3.16, 0.92, 0.8, 3.96, 1.56, 2.44, 2.76, 2.72, 0.52, 1.64, 1.96, 2.4, 0.12, 2.84, 3.48, 2.96, 0.64, 3.36, 2.24, 3.56, 1.88, 1.72, 1.76, 3.6, 3.16, 3.56, 1.28, 1.2, 1.84, 0.2, 2.84, 2.8, 1.32, 2.08, 0.52, 0.6, 1.68, 2.88, 2.92, 3.2, 0.44, 2.76, 0.72, 1.6, 2.08, 1.12, 2.76, 2.32, 3.52, 2.52, 0.92, 3.52, 0.6, 2.04, 3.16, 0.2, 1.44, 3.36, 0.12, 3.88, 3.64, 1.48, 1.6]\n",
      "[3.64, 3.2, 0.52, 2.8, 3.4, 2.0, 2.56, 3.68, 2.04, 3.76, 1.16, 2.24, 3.12, 3.24, 3.92, 1.16, 3.88, 1.64, 0.4, 1.04, 0.92, 3.92, 1.52, 2.84, 0.68, 3.04, 1.76, 3.48, 3.44, 0.44, 1.92, 3.72, 1.2, 3.64, 0.84, 1.72, 3.64, 2.52, 3.04, 0.96, 2.0, 0.24, 0.2, 0.92, 0.72, 3.28, 3.96, 0.32, 1.4, 1.56, 3.68, 0.92, 1.88, 2.48, 2.72, 2.08, 2.12, 1.64, 1.76, 3.56, 0.52, 1.12, 0.2, 0.24, 1.44, 2.08, 0.68, 3.44, 1.48, 2.32, 0.0, 2.68, 1.72, 1.84, 1.36, 3.44, 3.6, 2.36, 3.56, 2.04, 0.28, 3.16, 1.6, 0.08, 3.8, 2.72, 3.32, 0.52, 3.8, 1.0, 2.76, 2.28, 3.96, 1.56, 2.0, 0.16, 3.04, 1.24, 3.16, 0.0, 3.04, 2.12, 0.4, 2.08, 0.28, 0.96, 1.56, 1.24, 3.48, 1.08, 3.08, 0.08, 3.96, 3.6, 3.32, 3.12, 2.44, 1.04, 1.76, 3.64, 0.96, 2.4, 1.72, 3.84, 1.8, 0.52, 0.28, 1.88, 0.52, 2.56, 3.16, 3.24, 0.24, 3.12, 3.48, 1.92, 2.16, 0.48, 2.88, 2.2, 2.2, 0.56, 2.24, 2.28, 1.36, 3.48, 3.84, 0.6, 0.28, 3.68, 3.44, 1.76, 3.76, 1.56, 2.12, 0.52, 2.32, 3.72, 2.08, 1.04, 1.84, 3.16, 0.2, 2.16, 3.84, 1.72, 0.68, 0.6, 0.44, 0.76, 1.76, 2.52, 2.32, 3.68, 3.72, 3.56, 0.84, 3.84, 1.84, 1.12, 3.4, 1.76, 3.04, 0.32, 0.92, 0.56, 1.4, 0.48, 3.6, 1.72, 4.0, 2.8, 2.84, 4.0, 3.08, 3.0, 1.4, 2.4, 3.2, 1.56, 3.68, 1.04, 0.0, 1.32, 2.68, 3.48, 0.8, 1.28, 0.24, 2.56, 0.08, 2.0, 3.12, 3.76, 2.12, 3.16, 2.92, 3.68, 2.32, 0.2, 1.12, 0.64, 2.36, 0.84, 0.92, 3.2, 3.36, 2.0, 1.96, 0.4, 2.2, 2.8, 1.64, 1.52, 2.72, 1.88, 2.24, 0.8, 3.24, 3.92, 0.76, 0.56, 2.72, 3.04, 2.0, 3.0, 2.44, 3.36, 1.44, 0.2, 2.8, 1.0, 0.28, 2.88, 3.6, 0.12, 0.8, 1.2, 0.8, 0.96, 0.56, 1.36, 1.92, 1.68, 1.6, 1.44, 2.24, 1.64, 1.84, 3.64, 2.4, 0.52, 2.68, 2.08, 3.32, 1.32, 3.0, 3.84, 0.92, 0.76, 2.72, 1.16, 3.48, 0.24, 1.4, 1.48, 3.16, 2.04, 0.56, 1.8, 0.88, 0.44, 3.68, 1.72, 0.56, 3.68, 1.92, 0.8, 0.56, 0.52, 1.64, 3.16, 0.56, 2.48, 2.68, 1.04, 3.44, 3.68, 2.08, 2.04, 2.48, 2.88, 2.08, 2.24, 2.04, 1.68, 0.24, 1.64, 0.12, 2.72, 0.16, 2.96, 3.64, 3.16, 1.6, 3.72, 0.12, 0.04, 2.64, 0.8, 2.76, 1.68, 3.24, 2.72, 0.32, 3.32, 1.08, 1.0, 3.24, 3.28, 0.08, 2.88, 3.96, 3.76, 1.92, 0.64, 2.48, 2.16, 0.88, 1.32, 2.72, 0.56, 1.84, 0.08, 3.28, 1.08, 0.08, 0.12, 3.48, 1.2, 1.76, 2.32, 1.76, 2.96, 1.44, 2.56, 0.32, 0.64, 2.56, 0.08, 1.0, 2.08, 1.2, 1.0, 0.88, 1.16, 0.36, 2.84, 3.52, 2.52, 0.84, 0.56, 2.2, 2.92, 0.76, 1.84, 3.44, 2.08, 2.08, 0.0, 0.04, 2.28, 0.72, 2.44, 3.08, 2.84, 0.44, 1.0, 1.04, 1.12, 0.56, 1.8, 0.0, 2.36, 3.64, 2.24, 0.08, 0.68, 2.04, 2.36, 1.32, 3.8, 3.68, 3.52, 2.36, 1.0, 2.84, 0.72, 0.84, 3.68, 1.28, 1.48, 1.36, 2.64, 3.28, 0.36, 3.6, 0.56, 0.4, 3.56, 0.92, 3.04, 3.8, 4.0, 0.12, 0.48, 2.88, 2.24, 3.88, 1.44, 1.88, 2.8, 0.0, 2.36, 0.44, 0.8, 0.4, 1.72, 2.28, 1.72, 3.08, 3.88, 1.32, 0.96, 0.12, 2.52, 3.56, 0.6, 0.36, 2.6, 1.36, 3.28, 0.2, 0.72, 2.32, 2.08, 0.28, 3.08, 0.36, 2.64, 1.48, 1.12, 0.56, 3.44, 0.88, 3.24, 1.8, 3.28, 1.08, 1.0, 0.36, 1.84, 0.12, 2.16, 2.6, 2.64, 0.24, 2.16, 3.16, 1.2, 2.92, 0.72, 1.08, 3.2, 1.08, 0.72, 4.0, 3.44, 0.76, 0.48, 3.04, 1.68, 0.4, 1.88, 0.56, 0.64, 2.12, 1.96, 1.08, 3.28, 0.12, 0.84, 3.4, 4.0, 1.52, 1.32, 3.84, 1.72, 1.64, 1.56, 3.84, 0.44, 0.04, 1.08, 2.92, 3.4, 3.2, 3.56, 2.64, 2.8, 2.84, 3.32, 3.0, 3.92, 3.2, 3.64, 0.36, 3.4, 2.24, 3.84, 3.4, 1.44, 3.04, 3.6, 2.52, 3.12, 3.4, 3.72, 1.56, 4.0, 3.88, 2.36, 3.88, 1.88, 3.92, 0.72, 2.84, 1.28, 1.72, 3.64, 1.44, 3.52, 1.4, 3.2, 3.48, 0.8, 0.04, 1.2, 3.84, 1.16, 3.0, 1.72, 0.44, 2.0, 1.92, 0.92, 0.92, 2.36, 0.4, 0.48, 3.6, 2.84, 2.92, 2.84, 2.52, 0.76, 2.84, 2.88, 2.8, 3.08, 1.08, 0.04, 1.68, 0.28, 0.48, 3.36, 3.64, 1.36, 0.88, 1.8, 0.56, 0.04, 2.4, 3.0, 2.52, 2.04, 1.4, 2.64, 2.72, 2.64, 1.84, 3.28, 0.04, 1.72, 4.0, 2.52, 3.2, 3.08, 1.08, 3.6, 2.12, 2.92, 2.64, 1.4, 2.48, 0.96, 3.4, 1.88, 1.52, 1.84, 3.72, 0.8, 1.16, 3.64, 1.2, 1.0, 0.84, 0.8, 0.0, 1.44, 3.04, 3.36, 1.8, 0.32, 0.64, 1.84, 3.36, 3.76, 2.32, 2.12, 3.4, 0.44, 2.52, 0.2, 2.08, 0.6, 3.56, 0.16, 2.88, 1.8, 0.52, 1.72, 2.48, 3.72, 2.04, 1.0, 2.08, 1.12, 0.72, 1.84, 0.28, 0.88, 1.36, 3.76, 2.08, 3.92, 3.8, 2.28, 0.16, 0.6, 0.64, 1.24, 3.8, 2.04, 0.76, 2.6, 3.32, 3.24, 0.0, 2.28, 3.68, 3.68, 3.28, 1.72, 0.2, 1.96, 2.84, 3.48, 0.76, 0.52, 0.16, 1.6, 1.56, 1.32, 3.16, 1.76, 2.8, 3.16, 2.8, 1.04, 3.08, 3.08, 1.72, 1.28, 1.28, 1.72, 0.76, 1.4, 0.24, 1.24, 2.64, 1.52, 3.68, 0.92, 3.4, 2.76, 3.48, 3.44, 2.12, 1.48, 2.92, 3.16, 2.96, 1.24, 1.76, 2.4, 2.76, 3.48, 3.84, 2.08, 2.0, 3.0, 2.2, 1.04, 1.48, 2.44, 0.68, 2.52, 3.04, 1.16, 1.92, 1.6, 0.48, 1.32, 3.96, 3.72, 0.96, 2.6, 3.96, 0.68, 0.16, 0.72, 1.64, 0.68, 1.24, 0.8, 0.36, 1.44, 1.92, 3.4, 0.48, 2.16, 0.64, 0.32, 3.48, 1.72, 3.08, 1.8, 0.28, 1.44, 0.72, 2.48, 3.64, 1.8, 3.72, 2.8, 1.0, 1.8, 1.8, 2.96, 0.52, 3.36, 2.48, 2.84, 0.08, 1.08, 1.12, 3.44, 0.68, 1.36, 3.04, 3.0, 1.84, 0.16, 2.96, 2.32, 2.96, 2.32, 1.84, 3.76, 3.76, 0.48, 3.08, 3.52, 1.28, 3.84, 2.44, 3.12, 0.6, 1.72, 2.28, 0.2, 3.52, 0.56, 0.12, 2.2, 2.52, 2.68, 3.72, 1.32, 3.6, 3.76, 2.2, 1.24, 0.32, 2.48, 2.84, 3.08, 1.28, 3.44, 0.8, 2.16, 3.0, 2.24, 0.04, 0.48, 0.12, 3.32, 1.96, 1.88, 3.08, 1.16, 1.12, 0.28, 0.44, 1.6, 1.0, 1.96, 0.04, 2.16, 2.2, 0.52, 0.2, 3.76, 3.2, 3.52, 2.4, 3.8, 0.44, 0.48, 0.72, 1.72, 3.52, 3.76, 2.32, 1.44, 0.96, 0.6, 1.48, 1.68, 3.44, 0.52, 0.2, 3.52, 0.88, 2.36, 0.44, 0.48, 3.96, 3.88, 0.2, 2.48, 1.48, 1.96, 2.04, 1.56, 0.28, 2.4, 0.28, 3.84, 1.32, 3.12, 3.96, 2.36, 2.24, 3.92, 1.8, 0.84, 3.44, 1.56, 1.76, 2.16, 2.0, 3.4, 0.16, 3.76, 0.48, 1.08, 3.32, 3.84, 3.16, 2.44, 3.68, 3.44, 0.92, 3.88, 0.24, 1.48, 1.44, 2.68, 3.88, 1.64, 3.4, 0.16, 2.52, 1.96, 3.44, 0.56, 3.76, 2.88, 2.08, 0.96, 3.52, 3.36, 0.32, 1.48, 0.84, 3.44, 1.92, 2.68, 3.68, 0.56, 2.56, 2.12, 1.16, 3.68, 0.76, 1.28, 3.96, 3.4, 3.04, 0.24, 0.28, 1.08, 1.76, 2.88, 3.52, 3.16, 2.92, 0.4, 1.2, 0.44, 3.76, 3.08, 2.0, 1.72, 3.8, 1.96, 0.64, 1.36, 0.0, 1.12, 2.0, 2.52, 0.12, 3.44, 1.08, 0.6, 2.48, 3.0, 2.08, 3.36, 0.64, 1.56, 0.48, 2.04, 2.28, 3.8, 1.44, 3.12, 3.0, 2.4, 3.12, 1.32, 2.76, 0.64, 0.76, 2.88, 2.32, 2.72, 3.44, 1.28, 3.08, 0.64, 2.24, 3.28, 3.84, 0.0, 0.48, 1.04, 2.76, 2.32, 0.2, 3.84, 3.72, 3.92, 0.88, 0.36, 2.0, 0.72, 2.0, 3.64, 3.44, 2.68, 3.32, 3.28, 1.64, 3.6, 2.24, 3.88, 2.68, 1.48, 2.44, 0.24, 2.8, 1.96, 2.04, 1.0, 1.0, 0.72, 0.32, 2.4, 0.76, 1.96, 3.16, 3.2, 0.84, 0.48, 0.44, 0.36, 2.56, 3.8, 1.16, 0.28, 0.8, 0.84, 0.68, 2.6, 1.88, 1.72, 0.32, 2.64, 2.12, 1.0, 3.36, 3.72, 3.64, 3.96, 1.0, 1.32, 0.28, 0.36, 1.88, 2.16, 2.12, 3.08, 1.56, 0.56, 3.2, 0.68, 3.8, 0.88, 2.44, 1.8, 3.44, 3.92, 1.52, 0.56, 2.08, 3.48, 2.52, 2.48, 3.64, 3.16, 0.6, 2.76, 2.6, 0.48, 1.84, 0.32, 2.48, 1.32, 3.2, 3.6, 1.12, 1.44, 1.68, 3.4, 2.52, 0.92, 2.8, 1.32, 1.88, 0.44, 0.88, 3.12, 3.84, 0.48, 3.44, 3.8, 1.76, 3.92, 2.56, 1.84, 2.28, 0.16, 3.04, 0.16, 2.36, 3.8, 0.8, 0.92, 0.68, 0.8, 2.12, 0.36, 0.92, 3.36, 3.52, 2.36, 2.24, 0.88, 0.84, 2.68, 1.32, 2.76, 1.08, 3.76, 3.92, 1.52, 1.64, 0.88, 2.76, 3.16, 0.04, 0.92, 0.64, 2.56, 2.76, 2.72, 2.36, 1.96, 3.68, 0.44, 1.84, 2.64, 2.56, 1.04, 1.88, 3.48, 2.44, 1.72, 0.72, 2.32, 0.28, 2.16, 1.84, 0.04, 3.72, 3.72, 1.52, 1.76, 1.24, 2.56, 1.48, 3.04, 0.4, 0.36, 2.32, 3.56, 2.16, 0.76, 3.2, 0.64, 2.68, 0.16, 2.36, 0.88, 1.8, 2.04, 0.36, 1.8, 1.08, 3.84, 1.68, 1.0, 2.16, 1.88, 1.12, 1.04, 0.68, 2.36, 2.92, 2.72, 2.92, 0.8, 0.92, 0.08, 3.76, 2.44, 4.0, 0.04, 2.6, 1.64, 1.32, 1.64, 0.76, 3.84, 2.68, 1.76, 2.96, 1.64, 1.84, 0.16, 3.52, 1.92, 1.44, 1.32, 2.88, 2.76, 0.68, 3.08, 0.72, 3.08, 1.56, 0.64, 2.36, 3.92, 3.68, 1.64, 3.2, 2.84, 2.56, 2.08, 3.96, 0.24, 0.16, 0.92, 1.08, 2.44, 0.64, 4.0, 0.76, 0.08, 1.44, 3.56, 0.56, 2.0, 1.88, 0.28, 0.48, 1.88, 0.08, 2.56, 2.88, 1.2, 1.0, 3.2, 2.2, 1.32, 0.32, 2.44, 0.48, 2.72, 1.6, 3.04, 0.0, 3.52, 1.84, 0.12, 3.96, 2.48, 2.04, 0.36, 1.08, 0.2, 1.04, 0.44, 2.44, 2.04, 1.88, 2.64, 1.8, 3.84, 2.92, 3.76, 0.56, 2.8, 1.4, 0.52, 3.08, 0.08, 2.64, 3.4, 0.72, 3.92, 3.0, 2.12, 2.72, 0.36, 1.28, 0.48, 3.92, 2.0, 1.24, 2.96, 0.92, 1.36, 3.28, 2.76, 1.56, 2.12, 1.72, 2.44, 3.92, 2.68, 1.28, 3.04, 2.2, 1.4, 2.12, 0.72, 1.68, 0.44, 0.4, 2.76, 0.44, 3.6, 1.6, 0.96, 0.08, 0.08, 3.32, 1.08, 0.88, 1.88, 2.64, 1.64, 3.48, 1.56, 0.2, 0.76, 0.4, 3.8, 1.04, 0.8, 0.48, 3.4, 1.36, 1.84, 3.4, 1.08, 0.8, 0.68, 1.2, 2.36, 1.44, 0.8, 0.52, 3.52, 3.6, 2.36, 0.88, 3.76, 1.12, 1.84, 1.16, 3.56, 3.32, 1.48, 3.28, 1.04, 3.52, 3.44, 3.68, 0.56, 2.32, 0.08, 0.36, 3.12, 3.16, 0.64, 3.28, 0.4, 1.88, 0.16, 2.72, 2.52, 0.52, 1.96, 1.0, 2.84, 2.72, 0.24, 0.6, 2.16, 3.08, 4.0, 2.2, 0.12, 3.96, 1.88, 0.64, 1.4, 2.76, 3.16, 3.68, 3.96, 1.48, 4.0, 2.44, 1.88, 0.36, 1.4, 1.12, 3.08, 0.12, 1.72, 2.2, 1.64, 3.96, 0.48, 1.8, 3.24, 1.28, 0.8, 3.16, 3.12, 2.24, 2.72, 2.76, 2.64, 1.88, 3.0, 3.96, 1.28, 1.4, 1.28, 1.2, 0.8, 1.04, 3.6, 2.84, 4.0, 2.44, 3.8, 1.0, 2.6, 0.44, 0.84, 0.64, 0.24, 2.68, 1.44, 1.48, 3.8, 0.4, 0.0, 0.96, 1.64, 2.04, 0.92, 2.08, 2.2, 2.48, 3.2, 0.28, 2.32, 1.76, 1.04]\n"
     ]
    }
   ],
   "source": [
    "is_scaled = []\n",
    "ss_scaled = []\n",
    "ps_scaled = []\n",
    "\n",
    "for i in range(len(dataset_gender_scaled['InterviewScore'])):\n",
    "    score = dataset_gender_scaled.InterviewScore[i]/25\n",
    "    is_scaled.append(score)\n",
    "\n",
    "for i in range(len(dataset_gender_scaled['SkillScore'])):\n",
    "    score = dataset_gender_scaled.SkillScore[i]/25\n",
    "    ss_scaled.append(score)\n",
    "\n",
    "for i in range(len(dataset_gender_scaled['PersonalityScore'])):\n",
    "    score = dataset_gender_scaled.PersonalityScore[i]/25\n",
    "    ps_scaled.append(score)\n",
    "\n",
    "\n",
    "print(is_scaled)\n",
    "print(ss_scaled)\n",
    "print(ps_scaled)"
   ]
  },
  {
   "cell_type": "markdown",
   "metadata": {},
   "source": [
    "### Adding scaled values to the dataset "
   ]
  },
  {
   "cell_type": "code",
   "execution_count": 60,
   "metadata": {},
   "outputs": [
    {
     "name": "stderr",
     "output_type": "stream",
     "text": [
      "C:\\Users\\yashyashahshah2005\\AppData\\Local\\Temp\\ipykernel_6608\\854645519.py:1: SettingWithCopyWarning: \n",
      "A value is trying to be set on a copy of a slice from a DataFrame.\n",
      "Try using .loc[row_indexer,col_indexer] = value instead\n",
      "\n",
      "See the caveats in the documentation: https://pandas.pydata.org/pandas-docs/stable/user_guide/indexing.html#returning-a-view-versus-a-copy\n",
      "  dataset_gender_scaled['InterviewScoreScaled'] = is_scaled\n",
      "C:\\Users\\yashyashahshah2005\\AppData\\Local\\Temp\\ipykernel_6608\\854645519.py:2: SettingWithCopyWarning: \n",
      "A value is trying to be set on a copy of a slice from a DataFrame.\n",
      "Try using .loc[row_indexer,col_indexer] = value instead\n",
      "\n",
      "See the caveats in the documentation: https://pandas.pydata.org/pandas-docs/stable/user_guide/indexing.html#returning-a-view-versus-a-copy\n",
      "  dataset_gender_scaled['SkillScoreScaled'] = ss_scaled\n",
      "C:\\Users\\yashyashahshah2005\\AppData\\Local\\Temp\\ipykernel_6608\\854645519.py:3: SettingWithCopyWarning: \n",
      "A value is trying to be set on a copy of a slice from a DataFrame.\n",
      "Try using .loc[row_indexer,col_indexer] = value instead\n",
      "\n",
      "See the caveats in the documentation: https://pandas.pydata.org/pandas-docs/stable/user_guide/indexing.html#returning-a-view-versus-a-copy\n",
      "  dataset_gender_scaled['PersonalityScoreScaled'] = ps_scaled\n"
     ]
    }
   ],
   "source": [
    "dataset_gender_scaled['InterviewScoreScaled'] = is_scaled\n",
    "dataset_gender_scaled['SkillScoreScaled'] = ss_scaled\n",
    "dataset_gender_scaled['PersonalityScoreScaled'] = ps_scaled\n",
    "dataset_gender_scaled['AgeGroup'] = dataset_age['AgeGroup']"
   ]
  },
  {
   "cell_type": "markdown",
   "metadata": {},
   "source": [
    "### Displaying the dataset"
   ]
  },
  {
   "cell_type": "code",
   "execution_count": 61,
   "metadata": {},
   "outputs": [
    {
     "data": {
      "text/html": [
       "<div>\n",
       "<style scoped>\n",
       "    .dataframe tbody tr th:only-of-type {\n",
       "        vertical-align: middle;\n",
       "    }\n",
       "\n",
       "    .dataframe tbody tr th {\n",
       "        vertical-align: top;\n",
       "    }\n",
       "\n",
       "    .dataframe thead th {\n",
       "        text-align: right;\n",
       "    }\n",
       "</style>\n",
       "<table border=\"1\" class=\"dataframe\">\n",
       "  <thead>\n",
       "    <tr style=\"text-align: right;\">\n",
       "      <th></th>\n",
       "      <th>Gender</th>\n",
       "      <th>EducationLevel</th>\n",
       "      <th>InterviewScore</th>\n",
       "      <th>SkillScore</th>\n",
       "      <th>PersonalityScore</th>\n",
       "      <th>PreviousCompanies</th>\n",
       "      <th>RecruitmentStrategy</th>\n",
       "      <th>InterviewScoreScaled</th>\n",
       "      <th>SkillScoreScaled</th>\n",
       "      <th>PersonalityScoreScaled</th>\n",
       "      <th>AgeGroup</th>\n",
       "    </tr>\n",
       "  </thead>\n",
       "  <tbody>\n",
       "    <tr>\n",
       "      <th>0</th>\n",
       "      <td>1</td>\n",
       "      <td>2</td>\n",
       "      <td>48</td>\n",
       "      <td>78</td>\n",
       "      <td>91</td>\n",
       "      <td>3</td>\n",
       "      <td>1</td>\n",
       "      <td>1.92</td>\n",
       "      <td>3.12</td>\n",
       "      <td>3.64</td>\n",
       "      <td>25-30</td>\n",
       "    </tr>\n",
       "    <tr>\n",
       "      <th>1</th>\n",
       "      <td>1</td>\n",
       "      <td>4</td>\n",
       "      <td>35</td>\n",
       "      <td>68</td>\n",
       "      <td>80</td>\n",
       "      <td>3</td>\n",
       "      <td>2</td>\n",
       "      <td>1.40</td>\n",
       "      <td>2.72</td>\n",
       "      <td>3.20</td>\n",
       "      <td>35-40</td>\n",
       "    </tr>\n",
       "    <tr>\n",
       "      <th>2</th>\n",
       "      <td>0</td>\n",
       "      <td>2</td>\n",
       "      <td>20</td>\n",
       "      <td>67</td>\n",
       "      <td>13</td>\n",
       "      <td>2</td>\n",
       "      <td>2</td>\n",
       "      <td>0.80</td>\n",
       "      <td>2.68</td>\n",
       "      <td>0.52</td>\n",
       "      <td>45-50</td>\n",
       "    </tr>\n",
       "    <tr>\n",
       "      <th>3</th>\n",
       "      <td>1</td>\n",
       "      <td>2</td>\n",
       "      <td>36</td>\n",
       "      <td>27</td>\n",
       "      <td>70</td>\n",
       "      <td>2</td>\n",
       "      <td>3</td>\n",
       "      <td>1.44</td>\n",
       "      <td>1.08</td>\n",
       "      <td>2.80</td>\n",
       "      <td>30-35</td>\n",
       "    </tr>\n",
       "    <tr>\n",
       "      <th>4</th>\n",
       "      <td>0</td>\n",
       "      <td>1</td>\n",
       "      <td>23</td>\n",
       "      <td>52</td>\n",
       "      <td>85</td>\n",
       "      <td>1</td>\n",
       "      <td>2</td>\n",
       "      <td>0.92</td>\n",
       "      <td>2.08</td>\n",
       "      <td>3.40</td>\n",
       "      <td>30-35</td>\n",
       "    </tr>\n",
       "    <tr>\n",
       "      <th>...</th>\n",
       "      <td>...</td>\n",
       "      <td>...</td>\n",
       "      <td>...</td>\n",
       "      <td>...</td>\n",
       "      <td>...</td>\n",
       "      <td>...</td>\n",
       "      <td>...</td>\n",
       "      <td>...</td>\n",
       "      <td>...</td>\n",
       "      <td>...</td>\n",
       "      <td>...</td>\n",
       "    </tr>\n",
       "    <tr>\n",
       "      <th>1495</th>\n",
       "      <td>0</td>\n",
       "      <td>2</td>\n",
       "      <td>66</td>\n",
       "      <td>3</td>\n",
       "      <td>80</td>\n",
       "      <td>4</td>\n",
       "      <td>3</td>\n",
       "      <td>2.64</td>\n",
       "      <td>0.12</td>\n",
       "      <td>3.20</td>\n",
       "      <td>45-50</td>\n",
       "    </tr>\n",
       "    <tr>\n",
       "      <th>1496</th>\n",
       "      <td>1</td>\n",
       "      <td>2</td>\n",
       "      <td>43</td>\n",
       "      <td>97</td>\n",
       "      <td>7</td>\n",
       "      <td>3</td>\n",
       "      <td>2</td>\n",
       "      <td>1.72</td>\n",
       "      <td>3.88</td>\n",
       "      <td>0.28</td>\n",
       "      <td>25-30</td>\n",
       "    </tr>\n",
       "    <tr>\n",
       "      <th>1497</th>\n",
       "      <td>1</td>\n",
       "      <td>1</td>\n",
       "      <td>31</td>\n",
       "      <td>91</td>\n",
       "      <td>58</td>\n",
       "      <td>2</td>\n",
       "      <td>1</td>\n",
       "      <td>1.24</td>\n",
       "      <td>3.64</td>\n",
       "      <td>2.32</td>\n",
       "      <td>20-25</td>\n",
       "    </tr>\n",
       "    <tr>\n",
       "      <th>1498</th>\n",
       "      <td>0</td>\n",
       "      <td>2</td>\n",
       "      <td>9</td>\n",
       "      <td>37</td>\n",
       "      <td>44</td>\n",
       "      <td>4</td>\n",
       "      <td>2</td>\n",
       "      <td>0.36</td>\n",
       "      <td>1.48</td>\n",
       "      <td>1.76</td>\n",
       "      <td>45-50</td>\n",
       "    </tr>\n",
       "    <tr>\n",
       "      <th>1499</th>\n",
       "      <td>1</td>\n",
       "      <td>2</td>\n",
       "      <td>63</td>\n",
       "      <td>40</td>\n",
       "      <td>26</td>\n",
       "      <td>5</td>\n",
       "      <td>2</td>\n",
       "      <td>2.52</td>\n",
       "      <td>1.60</td>\n",
       "      <td>1.04</td>\n",
       "      <td>30-35</td>\n",
       "    </tr>\n",
       "  </tbody>\n",
       "</table>\n",
       "<p>1500 rows × 11 columns</p>\n",
       "</div>"
      ],
      "text/plain": [
       "      Gender  EducationLevel  InterviewScore  SkillScore  PersonalityScore  \\\n",
       "0          1               2              48          78                91   \n",
       "1          1               4              35          68                80   \n",
       "2          0               2              20          67                13   \n",
       "3          1               2              36          27                70   \n",
       "4          0               1              23          52                85   \n",
       "...      ...             ...             ...         ...               ...   \n",
       "1495       0               2              66           3                80   \n",
       "1496       1               2              43          97                 7   \n",
       "1497       1               1              31          91                58   \n",
       "1498       0               2               9          37                44   \n",
       "1499       1               2              63          40                26   \n",
       "\n",
       "      PreviousCompanies  RecruitmentStrategy  InterviewScoreScaled  \\\n",
       "0                     3                    1                  1.92   \n",
       "1                     3                    2                  1.40   \n",
       "2                     2                    2                  0.80   \n",
       "3                     2                    3                  1.44   \n",
       "4                     1                    2                  0.92   \n",
       "...                 ...                  ...                   ...   \n",
       "1495                  4                    3                  2.64   \n",
       "1496                  3                    2                  1.72   \n",
       "1497                  2                    1                  1.24   \n",
       "1498                  4                    2                  0.36   \n",
       "1499                  5                    2                  2.52   \n",
       "\n",
       "      SkillScoreScaled  PersonalityScoreScaled AgeGroup  \n",
       "0                 3.12                    3.64    25-30  \n",
       "1                 2.72                    3.20    35-40  \n",
       "2                 2.68                    0.52    45-50  \n",
       "3                 1.08                    2.80    30-35  \n",
       "4                 2.08                    3.40    30-35  \n",
       "...                ...                     ...      ...  \n",
       "1495              0.12                    3.20    45-50  \n",
       "1496              3.88                    0.28    25-30  \n",
       "1497              3.64                    2.32    20-25  \n",
       "1498              1.48                    1.76    45-50  \n",
       "1499              1.60                    1.04    30-35  \n",
       "\n",
       "[1500 rows x 11 columns]"
      ]
     },
     "execution_count": 61,
     "metadata": {},
     "output_type": "execute_result"
    }
   ],
   "source": [
    "dataset_gender_scaled"
   ]
  },
  {
   "cell_type": "markdown",
   "metadata": {},
   "source": [
    "### Barplot Visualization for different rows and columns"
   ]
  },
  {
   "cell_type": "code",
   "execution_count": 62,
   "metadata": {},
   "outputs": [
    {
     "data": {
      "image/png": "[encoded data removed]",
      "text/plain": [
       "<Figure size 1800x1200 with 6 Axes>"
      ]
     },
     "metadata": {},
     "output_type": "display_data"
    }
   ],
   "source": [
    "fig, axes = plt.subplots(2, 3, figsize=(18, 12))\n",
    "sns.set_style(\"darkgrid\")\n",
    "\n",
    "custom_palette_2 = {\n",
    "    0 : '#8c564b',\n",
    "    1 : '#7f7f7f'\n",
    "}\n",
    "\n",
    "custom_palette_3 = {\n",
    "    0 : '#bcbd22',\n",
    "    1 : '#17becf' \n",
    "}\n",
    "\n",
    "custom_palette_4 = {\n",
    "    0 : '#9467bd',\n",
    "    1 : '#d62728' \n",
    "}\n",
    "\n",
    "custom_palette_5 = {\n",
    "    0 : '#8c564b',\n",
    "    1 : '#e377c2' \n",
    "}\n",
    "\n",
    "custom_palette_6 = {\n",
    "    0 : '#2ca02c',\n",
    "    1 : '#d62728'\n",
    "}\n",
    "\n",
    "# Education Level\n",
    "sns.barplot(x = 'AgeGroup', y ='EducationLevel', hue = 'Gender', data = dataset_gender_scaled, ax=axes[0,0])\n",
    "axes[0, 0].set_title('Age Group V/S Education Level (Graph 1)')\n",
    "axes[0, 0].set_xlabel('Age Group')\n",
    "axes[0, 0].set_ylabel('Education Level')\n",
    "\n",
    "# Interview Score\n",
    "sns.barplot(x='AgeGroup', y='InterviewScoreScaled', hue='Gender', data=dataset_gender_scaled, palette=custom_palette_2, ax=axes[0, 1])\n",
    "axes[0, 1].set_title('Age Group V/S Interview Score (Graph 2)')\n",
    "axes[0, 1].set_xlabel('Age Group')\n",
    "axes[0, 1].set_ylabel('Interview Score')\n",
    "\n",
    "# Skill Score\n",
    "sns.barplot(x='AgeGroup', y='SkillScoreScaled', hue='Gender', data=dataset_gender_scaled, palette=custom_palette_3, ax=axes[0, 2])\n",
    "axes[0, 2].set_title('Age Group V/S Skill Score (Graph 3)')\n",
    "axes[0, 2].set_xlabel('Age Group')\n",
    "axes[0, 2].set_ylabel('Skill Score')\n",
    "\n",
    "# Personality Score\n",
    "sns.barplot(x='AgeGroup', y='PersonalityScoreScaled', hue='Gender', data=dataset_gender_scaled, palette=custom_palette_4, ax=axes[1, 0])\n",
    "axes[1, 0].set_title('Age Group V/S Personality Score (Graph 4)')\n",
    "axes[1, 0].set_xlabel('Age Group')\n",
    "axes[1, 0].set_ylabel('Personality Score')\n",
    "\n",
    "# Previous Companies\n",
    "sns.barplot(x='AgeGroup', y='PreviousCompanies', hue='Gender', data=dataset_gender_scaled, palette=custom_palette_5, ax=axes[1, 1])\n",
    "axes[1, 1].set_title('Age Group V/S Previous Companies (Graph 5)')\n",
    "axes[1, 1].set_xlabel('Age Group')\n",
    "axes[1, 1].set_ylabel('Previous Companies')\n",
    "\n",
    "# Recruitment Strategy\n",
    "sns.barplot(x='AgeGroup', y='RecruitmentStrategy', hue='Gender', data=dataset_gender_scaled, palette=custom_palette_6, ax=axes[1, 2])\n",
    "axes[1, 2].set_title('Age Group V/S Recruitment Strategy (Graph 6)')\n",
    "axes[1, 2].set_xlabel('Age Group')\n",
    "axes[1, 2].set_ylabel('Recruitment Strategy')\n",
    "\n",
    "plt.tight_layout()"
   ]
  },
  {
   "cell_type": "markdown",
   "metadata": {},
   "source": [
    "--> \n",
    "Learning through graph 1 : \n",
    "  Education levels remain relatively consistent across different age groups. There is no significant variation in education levels when comparing different genders within the same age group. Both male and female individuals have similar education levels in each age group.\n",
    "\n",
    "\n",
    "Learning through graph 2 : \n",
    "  Interview scores are fairly consistent across different age groups, with a slight upward trend in the older age groups. There is also a consistent performance between different genders within the same age group, indicating no significant gender bias in interview scores.\n",
    "\n",
    "\n",
    "Learning through graph 3 : \n",
    "  Skill scores are generally consistent across different age groups, with a slight increase as age increases. Both genders have similar skill scores within each age group, suggesting that skill levels do not vary significantly by gender.\n",
    "\n",
    "\n",
    "Learning through graph 4 : \n",
    "  Personality scores show more variation compared to other metrics. The age group 30-35 has higher personality scores for both genders. Males generally have slightly higher personality scores than females in most age groups.\n",
    "\n",
    "Learning through graph 5 : \n",
    "  The number of previous companies increases with age, peaking in the 35-40 age group, and then slightly decreasing for older age groups. This trend is consistent for both genders, indicating that experience (in terms of previous companies) accumulates with age but may plateau or decrease slightly as individuals reach older age groups.\n",
    "\n",
    "\n",
    "Learning through graph 6 :\n",
    "  Recruitment strategies are consistent across age groups, with no significant variation between genders. This suggests that recruitment strategies are uniformly applied across different age groups and genders."
   ]
  },
  {
   "cell_type": "markdown",
   "metadata": {},
   "source": [
    "## Prediction through Artificial Neural Network"
   ]
  },
  {
   "cell_type": "markdown",
   "metadata": {},
   "source": [
    "### Part-1 Data Pre- Processing"
   ]
  },
  {
   "cell_type": "markdown",
   "metadata": {},
   "source": [
    "### Segregating independent and dependent variables"
   ]
  },
  {
   "cell_type": "code",
   "execution_count": 63,
   "metadata": {},
   "outputs": [],
   "source": [
    "X = dataset.iloc[ : , :-1].values\n",
    "y = dataset.iloc[ : , -1].values"
   ]
  },
  {
   "cell_type": "markdown",
   "metadata": {},
   "source": [
    "### Splitting the data into training test and test set"
   ]
  },
  {
   "cell_type": "code",
   "execution_count": 64,
   "metadata": {},
   "outputs": [],
   "source": [
    "from sklearn.model_selection import train_test_split\n",
    "X_train, X_test, y_train, y_test = train_test_split(X, y , train_size= 0.8, random_state = 0)"
   ]
  },
  {
   "cell_type": "markdown",
   "metadata": {},
   "source": [
    "### Feature Scaling"
   ]
  },
  {
   "cell_type": "code",
   "execution_count": 65,
   "metadata": {},
   "outputs": [],
   "source": [
    "from sklearn.preprocessing import StandardScaler\n",
    "sc = StandardScaler()\n",
    "X_train = sc.fit_transform(X_train)\n",
    "X_test = sc.transform(X_test)"
   ]
  },
  {
   "cell_type": "markdown",
   "metadata": {},
   "source": [
    "### Part-2 Building ANN"
   ]
  },
  {
   "cell_type": "markdown",
   "metadata": {},
   "source": [
    "### Initializing the ANN"
   ]
  },
  {
   "cell_type": "code",
   "execution_count": 66,
   "metadata": {},
   "outputs": [],
   "source": [
    "ann = tf.keras.models.Sequential()"
   ]
  },
  {
   "cell_type": "markdown",
   "metadata": {},
   "source": [
    "### Adding input layer to first hidden layer"
   ]
  },
  {
   "cell_type": "code",
   "execution_count": 67,
   "metadata": {},
   "outputs": [],
   "source": [
    "ann.add(tf.keras.layers.Dense(units = 20, activation = 'relu'))"
   ]
  },
  {
   "cell_type": "markdown",
   "metadata": {},
   "source": [
    "### Adding the second hidden layer"
   ]
  },
  {
   "cell_type": "code",
   "execution_count": 68,
   "metadata": {},
   "outputs": [],
   "source": [
    "ann.add(tf.keras.layers.Dense(units = 20, activation = 'relu'))"
   ]
  },
  {
   "cell_type": "markdown",
   "metadata": {},
   "source": [
    "### Adding the output layer"
   ]
  },
  {
   "cell_type": "code",
   "execution_count": 69,
   "metadata": {},
   "outputs": [],
   "source": [
    "ann.add(tf.keras.layers.Dense(units = 1, activation = 'sigmoid'))"
   ]
  },
  {
   "cell_type": "markdown",
   "metadata": {},
   "source": [
    "### Part-3 Trainig the ANN"
   ]
  },
  {
   "cell_type": "markdown",
   "metadata": {},
   "source": [
    "### Compiling the ANN"
   ]
  },
  {
   "cell_type": "code",
   "execution_count": 70,
   "metadata": {},
   "outputs": [],
   "source": [
    "ann.compile(optimizer = 'adam', loss = 'binary_crossentropy', metrics = ['accuracy'])"
   ]
  },
  {
   "cell_type": "markdown",
   "metadata": {},
   "source": [
    "### Training the ANN model on the training set"
   ]
  },
  {
   "cell_type": "code",
   "execution_count": 71,
   "metadata": {},
   "outputs": [
    {
     "name": "stdout",
     "output_type": "stream",
     "text": [
      "Epoch 1/100\n"
     ]
    },
    {
     "name": "stdout",
     "output_type": "stream",
     "text": [
      "\u001b[1m38/38\u001b[0m \u001b[32m━━━━━━━━━━━━━━━━━━━━\u001b[0m\u001b[37m\u001b[0m \u001b[1m1s\u001b[0m 2ms/step - accuracy: 0.6524 - loss: 0.6485\n",
      "Epoch 2/100\n",
      "\u001b[1m38/38\u001b[0m \u001b[32m━━━━━━━━━━━━━━━━━━━━\u001b[0m\u001b[37m\u001b[0m \u001b[1m0s\u001b[0m 1ms/step - accuracy: 0.6712 - loss: 0.5869 \n",
      "Epoch 3/100\n",
      "\u001b[1m38/38\u001b[0m \u001b[32m━━━━━━━━━━━━━━━━━━━━\u001b[0m\u001b[37m\u001b[0m \u001b[1m0s\u001b[0m 1ms/step - accuracy: 0.7212 - loss: 0.5228 \n",
      "Epoch 4/100\n",
      "\u001b[1m38/38\u001b[0m \u001b[32m━━━━━━━━━━━━━━━━━━━━\u001b[0m\u001b[37m\u001b[0m \u001b[1m0s\u001b[0m 2ms/step - accuracy: 0.7732 - loss: 0.4784\n",
      "Epoch 5/100\n",
      "\u001b[1m38/38\u001b[0m \u001b[32m━━━━━━━━━━━━━━━━━━━━\u001b[0m\u001b[37m\u001b[0m \u001b[1m0s\u001b[0m 2ms/step - accuracy: 0.8295 - loss: 0.4457\n",
      "Epoch 6/100\n",
      "\u001b[1m38/38\u001b[0m \u001b[32m━━━━━━━━━━━━━━━━━━━━\u001b[0m\u001b[37m\u001b[0m \u001b[1m0s\u001b[0m 2ms/step - accuracy: 0.8518 - loss: 0.4050\n",
      "Epoch 7/100\n",
      "\u001b[1m38/38\u001b[0m \u001b[32m━━━━━━━━━━━━━━━━━━━━\u001b[0m\u001b[37m\u001b[0m \u001b[1m0s\u001b[0m 1ms/step - accuracy: 0.8624 - loss: 0.3634 \n",
      "Epoch 8/100\n",
      "\u001b[1m38/38\u001b[0m \u001b[32m━━━━━━━━━━━━━━━━━━━━\u001b[0m\u001b[37m\u001b[0m \u001b[1m0s\u001b[0m 676us/step - accuracy: 0.8637 - loss: 0.3797\n",
      "Epoch 9/100\n",
      "\u001b[1m38/38\u001b[0m \u001b[32m━━━━━━━━━━━━━━━━━━━━\u001b[0m\u001b[37m\u001b[0m \u001b[1m0s\u001b[0m 784us/step - accuracy: 0.8604 - loss: 0.3548\n",
      "Epoch 10/100\n",
      "\u001b[1m38/38\u001b[0m \u001b[32m━━━━━━━━━━━━━━━━━━━━\u001b[0m\u001b[37m\u001b[0m \u001b[1m0s\u001b[0m 676us/step - accuracy: 0.8745 - loss: 0.3612\n",
      "Epoch 11/100\n",
      "\u001b[1m38/38\u001b[0m \u001b[32m━━━━━━━━━━━━━━━━━━━━\u001b[0m\u001b[37m\u001b[0m \u001b[1m0s\u001b[0m 1ms/step - accuracy: 0.8900 - loss: 0.3067 \n",
      "Epoch 12/100\n",
      "\u001b[1m38/38\u001b[0m \u001b[32m━━━━━━━━━━━━━━━━━━━━\u001b[0m\u001b[37m\u001b[0m \u001b[1m0s\u001b[0m 1ms/step - accuracy: 0.8694 - loss: 0.3373\n",
      "Epoch 13/100\n",
      "\u001b[1m38/38\u001b[0m \u001b[32m━━━━━━━━━━━━━━━━━━━━\u001b[0m\u001b[37m\u001b[0m \u001b[1m0s\u001b[0m 2ms/step - accuracy: 0.8808 - loss: 0.3176\n",
      "Epoch 14/100\n",
      "\u001b[1m38/38\u001b[0m \u001b[32m━━━━━━━━━━━━━━━━━━━━\u001b[0m\u001b[37m\u001b[0m \u001b[1m0s\u001b[0m 2ms/step - accuracy: 0.8899 - loss: 0.3074\n",
      "Epoch 15/100\n",
      "\u001b[1m38/38\u001b[0m \u001b[32m━━━━━━━━━━━━━━━━━━━━\u001b[0m\u001b[37m\u001b[0m \u001b[1m0s\u001b[0m 620us/step - accuracy: 0.8883 - loss: 0.2998\n",
      "Epoch 16/100\n",
      "\u001b[1m38/38\u001b[0m \u001b[32m━━━━━━━━━━━━━━━━━━━━\u001b[0m\u001b[37m\u001b[0m \u001b[1m0s\u001b[0m 2ms/step - accuracy: 0.8827 - loss: 0.3204\n",
      "Epoch 17/100\n",
      "\u001b[1m38/38\u001b[0m \u001b[32m━━━━━━━━━━━━━━━━━━━━\u001b[0m\u001b[37m\u001b[0m \u001b[1m0s\u001b[0m 1ms/step - accuracy: 0.8797 - loss: 0.3106 \n",
      "Epoch 18/100\n",
      "\u001b[1m38/38\u001b[0m \u001b[32m━━━━━━━━━━━━━━━━━━━━\u001b[0m\u001b[37m\u001b[0m \u001b[1m0s\u001b[0m 672us/step - accuracy: 0.8821 - loss: 0.3072\n",
      "Epoch 19/100\n",
      "\u001b[1m38/38\u001b[0m \u001b[32m━━━━━━━━━━━━━━━━━━━━\u001b[0m\u001b[37m\u001b[0m \u001b[1m0s\u001b[0m 665us/step - accuracy: 0.8875 - loss: 0.2861\n",
      "Epoch 20/100\n",
      "\u001b[1m38/38\u001b[0m \u001b[32m━━━━━━━━━━━━━━━━━━━━\u001b[0m\u001b[37m\u001b[0m \u001b[1m0s\u001b[0m 589us/step - accuracy: 0.8940 - loss: 0.2878\n",
      "Epoch 21/100\n",
      "\u001b[1m38/38\u001b[0m \u001b[32m━━━━━━━━━━━━━━━━━━━━\u001b[0m\u001b[37m\u001b[0m \u001b[1m0s\u001b[0m 422us/step - accuracy: 0.8856 - loss: 0.2940\n",
      "Epoch 22/100\n",
      "\u001b[1m38/38\u001b[0m \u001b[32m━━━━━━━━━━━━━━━━━━━━\u001b[0m\u001b[37m\u001b[0m \u001b[1m0s\u001b[0m 422us/step - accuracy: 0.8938 - loss: 0.2694\n",
      "Epoch 23/100\n",
      "\u001b[1m38/38\u001b[0m \u001b[32m━━━━━━━━━━━━━━━━━━━━\u001b[0m\u001b[37m\u001b[0m \u001b[1m0s\u001b[0m 844us/step - accuracy: 0.8961 - loss: 0.2615\n",
      "Epoch 24/100\n",
      "\u001b[1m38/38\u001b[0m \u001b[32m━━━━━━━━━━━━━━━━━━━━\u001b[0m\u001b[37m\u001b[0m \u001b[1m0s\u001b[0m 423us/step - accuracy: 0.8951 - loss: 0.2796\n",
      "Epoch 25/100\n",
      "\u001b[1m38/38\u001b[0m \u001b[32m━━━━━━━━━━━━━━━━━━━━\u001b[0m\u001b[37m\u001b[0m \u001b[1m0s\u001b[0m 422us/step - accuracy: 0.8960 - loss: 0.2827\n",
      "Epoch 26/100\n",
      "\u001b[1m38/38\u001b[0m \u001b[32m━━━━━━━━━━━━━━━━━━━━\u001b[0m\u001b[37m\u001b[0m \u001b[1m0s\u001b[0m 422us/step - accuracy: 0.8923 - loss: 0.2958\n",
      "Epoch 27/100\n",
      "\u001b[1m38/38\u001b[0m \u001b[32m━━━━━━━━━━━━━━━━━━━━\u001b[0m\u001b[37m\u001b[0m \u001b[1m0s\u001b[0m 477us/step - accuracy: 0.8896 - loss: 0.2717\n",
      "Epoch 28/100\n",
      "\u001b[1m38/38\u001b[0m \u001b[32m━━━━━━━━━━━━━━━━━━━━\u001b[0m\u001b[37m\u001b[0m \u001b[1m0s\u001b[0m 422us/step - accuracy: 0.9033 - loss: 0.2708\n",
      "Epoch 29/100\n",
      "\u001b[1m38/38\u001b[0m \u001b[32m━━━━━━━━━━━━━━━━━━━━\u001b[0m\u001b[37m\u001b[0m \u001b[1m0s\u001b[0m 844us/step - accuracy: 0.8880 - loss: 0.2832\n",
      "Epoch 30/100\n",
      "\u001b[1m38/38\u001b[0m \u001b[32m━━━━━━━━━━━━━━━━━━━━\u001b[0m\u001b[37m\u001b[0m \u001b[1m0s\u001b[0m 844us/step - accuracy: 0.8974 - loss: 0.2777\n",
      "Epoch 31/100\n",
      "\u001b[1m38/38\u001b[0m \u001b[32m━━━━━━━━━━━━━━━━━━━━\u001b[0m\u001b[37m\u001b[0m \u001b[1m0s\u001b[0m 709us/step - accuracy: 0.9117 - loss: 0.2578\n",
      "Epoch 32/100\n",
      "\u001b[1m38/38\u001b[0m \u001b[32m━━━━━━━━━━━━━━━━━━━━\u001b[0m\u001b[37m\u001b[0m \u001b[1m0s\u001b[0m 2ms/step - accuracy: 0.9121 - loss: 0.2414\n",
      "Epoch 33/100\n",
      "\u001b[1m38/38\u001b[0m \u001b[32m━━━━━━━━━━━━━━━━━━━━\u001b[0m\u001b[37m\u001b[0m \u001b[1m0s\u001b[0m 1ms/step - accuracy: 0.9001 - loss: 0.2415 \n",
      "Epoch 34/100\n",
      "\u001b[1m38/38\u001b[0m \u001b[32m━━━━━━━━━━━━━━━━━━━━\u001b[0m\u001b[37m\u001b[0m \u001b[1m0s\u001b[0m 1ms/step - accuracy: 0.9129 - loss: 0.2574 \n",
      "Epoch 35/100\n",
      "\u001b[1m38/38\u001b[0m \u001b[32m━━━━━━━━━━━━━━━━━━━━\u001b[0m\u001b[37m\u001b[0m \u001b[1m0s\u001b[0m 1ms/step - accuracy: 0.8954 - loss: 0.2771 \n",
      "Epoch 36/100\n",
      "\u001b[1m38/38\u001b[0m \u001b[32m━━━━━━━━━━━━━━━━━━━━\u001b[0m\u001b[37m\u001b[0m \u001b[1m0s\u001b[0m 1ms/step - accuracy: 0.9113 - loss: 0.2455 \n",
      "Epoch 37/100\n",
      "\u001b[1m38/38\u001b[0m \u001b[32m━━━━━━━━━━━━━━━━━━━━\u001b[0m\u001b[37m\u001b[0m \u001b[1m0s\u001b[0m 1ms/step - accuracy: 0.8887 - loss: 0.2858 \n",
      "Epoch 38/100\n",
      "\u001b[1m38/38\u001b[0m \u001b[32m━━━━━━━━━━━━━━━━━━━━\u001b[0m\u001b[37m\u001b[0m \u001b[1m0s\u001b[0m 664us/step - accuracy: 0.9057 - loss: 0.2548\n",
      "Epoch 39/100\n",
      "\u001b[1m38/38\u001b[0m \u001b[32m━━━━━━━━━━━━━━━━━━━━\u001b[0m\u001b[37m\u001b[0m \u001b[1m0s\u001b[0m 447us/step - accuracy: 0.9151 - loss: 0.2420\n",
      "Epoch 40/100\n",
      "\u001b[1m38/38\u001b[0m \u001b[32m━━━━━━━━━━━━━━━━━━━━\u001b[0m\u001b[37m\u001b[0m \u001b[1m0s\u001b[0m 450us/step - accuracy: 0.9014 - loss: 0.2551\n",
      "Epoch 41/100\n",
      "\u001b[1m38/38\u001b[0m \u001b[32m━━━━━━━━━━━━━━━━━━━━\u001b[0m\u001b[37m\u001b[0m \u001b[1m0s\u001b[0m 448us/step - accuracy: 0.9024 - loss: 0.2748\n",
      "Epoch 42/100\n",
      "\u001b[1m38/38\u001b[0m \u001b[32m━━━━━━━━━━━━━━━━━━━━\u001b[0m\u001b[37m\u001b[0m \u001b[1m0s\u001b[0m 673us/step - accuracy: 0.9036 - loss: 0.2530\n",
      "Epoch 43/100\n",
      "\u001b[1m38/38\u001b[0m \u001b[32m━━━━━━━━━━━━━━━━━━━━\u001b[0m\u001b[37m\u001b[0m \u001b[1m0s\u001b[0m 670us/step - accuracy: 0.9102 - loss: 0.2383\n",
      "Epoch 44/100\n",
      "\u001b[1m38/38\u001b[0m \u001b[32m━━━━━━━━━━━━━━━━━━━━\u001b[0m\u001b[37m\u001b[0m \u001b[1m0s\u001b[0m 845us/step - accuracy: 0.9044 - loss: 0.2494\n",
      "Epoch 45/100\n",
      "\u001b[1m38/38\u001b[0m \u001b[32m━━━━━━━━━━━━━━━━━━━━\u001b[0m\u001b[37m\u001b[0m \u001b[1m0s\u001b[0m 845us/step - accuracy: 0.9172 - loss: 0.2363\n",
      "Epoch 46/100\n",
      "\u001b[1m38/38\u001b[0m \u001b[32m━━━━━━━━━━━━━━━━━━━━\u001b[0m\u001b[37m\u001b[0m \u001b[1m0s\u001b[0m 1ms/step - accuracy: 0.8809 - loss: 0.2973 \n",
      "Epoch 47/100\n",
      "\u001b[1m38/38\u001b[0m \u001b[32m━━━━━━━━━━━━━━━━━━━━\u001b[0m\u001b[37m\u001b[0m \u001b[1m0s\u001b[0m 2ms/step - accuracy: 0.9174 - loss: 0.2392\n",
      "Epoch 48/100\n",
      "\u001b[1m38/38\u001b[0m \u001b[32m━━━━━━━━━━━━━━━━━━━━\u001b[0m\u001b[37m\u001b[0m \u001b[1m0s\u001b[0m 1ms/step - accuracy: 0.8998 - loss: 0.2545 \n",
      "Epoch 49/100\n",
      "\u001b[1m38/38\u001b[0m \u001b[32m━━━━━━━━━━━━━━━━━━━━\u001b[0m\u001b[37m\u001b[0m \u001b[1m0s\u001b[0m 1ms/step - accuracy: 0.9009 - loss: 0.2348 \n",
      "Epoch 50/100\n",
      "\u001b[1m38/38\u001b[0m \u001b[32m━━━━━━━━━━━━━━━━━━━━\u001b[0m\u001b[37m\u001b[0m \u001b[1m0s\u001b[0m 4ms/step - accuracy: 0.9072 - loss: 0.2324\n",
      "Epoch 51/100\n",
      "\u001b[1m38/38\u001b[0m \u001b[32m━━━━━━━━━━━━━━━━━━━━\u001b[0m\u001b[37m\u001b[0m \u001b[1m0s\u001b[0m 1ms/step - accuracy: 0.9021 - loss: 0.2518 \n",
      "Epoch 52/100\n",
      "\u001b[1m38/38\u001b[0m \u001b[32m━━━━━━━━━━━━━━━━━━━━\u001b[0m\u001b[37m\u001b[0m \u001b[1m0s\u001b[0m 2ms/step - accuracy: 0.8917 - loss: 0.2525 \n",
      "Epoch 53/100\n",
      "\u001b[1m38/38\u001b[0m \u001b[32m━━━━━━━━━━━━━━━━━━━━\u001b[0m\u001b[37m\u001b[0m \u001b[1m0s\u001b[0m 902us/step - accuracy: 0.9189 - loss: 0.2129\n",
      "Epoch 54/100\n",
      "\u001b[1m38/38\u001b[0m \u001b[32m━━━━━━━━━━━━━━━━━━━━\u001b[0m\u001b[37m\u001b[0m \u001b[1m0s\u001b[0m 676us/step - accuracy: 0.9075 - loss: 0.2272\n",
      "Epoch 55/100\n",
      "\u001b[1m38/38\u001b[0m \u001b[32m━━━━━━━━━━━━━━━━━━━━\u001b[0m\u001b[37m\u001b[0m \u001b[1m0s\u001b[0m 676us/step - accuracy: 0.9099 - loss: 0.2208\n",
      "Epoch 56/100\n",
      "\u001b[1m38/38\u001b[0m \u001b[32m━━━━━━━━━━━━━━━━━━━━\u001b[0m\u001b[37m\u001b[0m \u001b[1m0s\u001b[0m 453us/step - accuracy: 0.9105 - loss: 0.2273\n",
      "Epoch 57/100\n",
      "\u001b[1m38/38\u001b[0m \u001b[32m━━━━━━━━━━━━━━━━━━━━\u001b[0m\u001b[37m\u001b[0m \u001b[1m0s\u001b[0m 831us/step - accuracy: 0.9232 - loss: 0.2095\n",
      "Epoch 58/100\n",
      "\u001b[1m38/38\u001b[0m \u001b[32m━━━━━━━━━━━━━━━━━━━━\u001b[0m\u001b[37m\u001b[0m \u001b[1m0s\u001b[0m 1ms/step - accuracy: 0.9081 - loss: 0.2327 \n",
      "Epoch 59/100\n",
      "\u001b[1m38/38\u001b[0m \u001b[32m━━━━━━━━━━━━━━━━━━━━\u001b[0m\u001b[37m\u001b[0m \u001b[1m0s\u001b[0m 895us/step - accuracy: 0.9132 - loss: 0.2244\n",
      "Epoch 60/100\n",
      "\u001b[1m38/38\u001b[0m \u001b[32m━━━━━━━━━━━━━━━━━━━━\u001b[0m\u001b[37m\u001b[0m \u001b[1m0s\u001b[0m 677us/step - accuracy: 0.9187 - loss: 0.2235\n",
      "Epoch 61/100\n",
      "\u001b[1m38/38\u001b[0m \u001b[32m━━━━━━━━━━━━━━━━━━━━\u001b[0m\u001b[37m\u001b[0m \u001b[1m0s\u001b[0m 657us/step - accuracy: 0.9100 - loss: 0.2304\n",
      "Epoch 62/100\n",
      "\u001b[1m38/38\u001b[0m \u001b[32m━━━━━━━━━━━━━━━━━━━━\u001b[0m\u001b[37m\u001b[0m \u001b[1m0s\u001b[0m 674us/step - accuracy: 0.9127 - loss: 0.2238\n",
      "Epoch 63/100\n",
      "\u001b[1m38/38\u001b[0m \u001b[32m━━━━━━━━━━━━━━━━━━━━\u001b[0m\u001b[37m\u001b[0m \u001b[1m0s\u001b[0m 682us/step - accuracy: 0.9036 - loss: 0.2337\n",
      "Epoch 64/100\n",
      "\u001b[1m38/38\u001b[0m \u001b[32m━━━━━━━━━━━━━━━━━━━━\u001b[0m\u001b[37m\u001b[0m \u001b[1m0s\u001b[0m 676us/step - accuracy: 0.9269 - loss: 0.2068\n",
      "Epoch 65/100\n",
      "\u001b[1m38/38\u001b[0m \u001b[32m━━━━━━━━━━━━━━━━━━━━\u001b[0m\u001b[37m\u001b[0m \u001b[1m0s\u001b[0m 731us/step - accuracy: 0.9138 - loss: 0.2177\n",
      "Epoch 66/100\n",
      "\u001b[1m38/38\u001b[0m \u001b[32m━━━━━━━━━━━━━━━━━━━━\u001b[0m\u001b[37m\u001b[0m \u001b[1m0s\u001b[0m 422us/step - accuracy: 0.9215 - loss: 0.2170\n",
      "Epoch 67/100\n",
      "\u001b[1m38/38\u001b[0m \u001b[32m━━━━━━━━━━━━━━━━━━━━\u001b[0m\u001b[37m\u001b[0m \u001b[1m0s\u001b[0m 422us/step - accuracy: 0.9039 - loss: 0.2251\n",
      "Epoch 68/100\n",
      "\u001b[1m38/38\u001b[0m \u001b[32m━━━━━━━━━━━━━━━━━━━━\u001b[0m\u001b[37m\u001b[0m \u001b[1m0s\u001b[0m 844us/step - accuracy: 0.9093 - loss: 0.2264\n",
      "Epoch 69/100\n",
      "\u001b[1m38/38\u001b[0m \u001b[32m━━━━━━━━━━━━━━━━━━━━\u001b[0m\u001b[37m\u001b[0m \u001b[1m0s\u001b[0m 422us/step - accuracy: 0.9164 - loss: 0.2198\n",
      "Epoch 70/100\n",
      "\u001b[1m38/38\u001b[0m \u001b[32m━━━━━━━━━━━━━━━━━━━━\u001b[0m\u001b[37m\u001b[0m \u001b[1m0s\u001b[0m 564us/step - accuracy: 0.9254 - loss: 0.2116\n",
      "Epoch 71/100\n",
      "\u001b[1m38/38\u001b[0m \u001b[32m━━━━━━━━━━━━━━━━━━━━\u001b[0m\u001b[37m\u001b[0m \u001b[1m0s\u001b[0m 422us/step - accuracy: 0.9219 - loss: 0.2138\n",
      "Epoch 72/100\n",
      "\u001b[1m38/38\u001b[0m \u001b[32m━━━━━━━━━━━━━━━━━━━━\u001b[0m\u001b[37m\u001b[0m \u001b[1m0s\u001b[0m 422us/step - accuracy: 0.9126 - loss: 0.2312\n",
      "Epoch 73/100\n",
      "\u001b[1m38/38\u001b[0m \u001b[32m━━━━━━━━━━━━━━━━━━━━\u001b[0m\u001b[37m\u001b[0m \u001b[1m0s\u001b[0m 2ms/step - accuracy: 0.9183 - loss: 0.2088\n",
      "Epoch 74/100\n",
      "\u001b[1m38/38\u001b[0m \u001b[32m━━━━━━━━━━━━━━━━━━━━\u001b[0m\u001b[37m\u001b[0m \u001b[1m0s\u001b[0m 424us/step - accuracy: 0.9164 - loss: 0.2118\n",
      "Epoch 75/100\n",
      "\u001b[1m38/38\u001b[0m \u001b[32m━━━━━━━━━━━━━━━━━━━━\u001b[0m\u001b[37m\u001b[0m \u001b[1m0s\u001b[0m 854us/step - accuracy: 0.9192 - loss: 0.2084\n",
      "Epoch 76/100\n",
      "\u001b[1m38/38\u001b[0m \u001b[32m━━━━━━━━━━━━━━━━━━━━\u001b[0m\u001b[37m\u001b[0m \u001b[1m0s\u001b[0m 706us/step - accuracy: 0.9266 - loss: 0.2044\n",
      "Epoch 77/100\n",
      "\u001b[1m38/38\u001b[0m \u001b[32m━━━━━━━━━━━━━━━━━━━━\u001b[0m\u001b[37m\u001b[0m \u001b[1m0s\u001b[0m 856us/step - accuracy: 0.9138 - loss: 0.2027\n",
      "Epoch 78/100\n",
      "\u001b[1m38/38\u001b[0m \u001b[32m━━━━━━━━━━━━━━━━━━━━\u001b[0m\u001b[37m\u001b[0m \u001b[1m0s\u001b[0m 422us/step - accuracy: 0.9228 - loss: 0.2122\n",
      "Epoch 79/100\n",
      "\u001b[1m38/38\u001b[0m \u001b[32m━━━━━━━━━━━━━━━━━━━━\u001b[0m\u001b[37m\u001b[0m \u001b[1m0s\u001b[0m 844us/step - accuracy: 0.9314 - loss: 0.2053\n",
      "Epoch 80/100\n",
      "\u001b[1m38/38\u001b[0m \u001b[32m━━━━━━━━━━━━━━━━━━━━\u001b[0m\u001b[37m\u001b[0m \u001b[1m0s\u001b[0m 844us/step - accuracy: 0.9209 - loss: 0.2054\n",
      "Epoch 81/100\n",
      "\u001b[1m38/38\u001b[0m \u001b[32m━━━━━━━━━━━━━━━━━━━━\u001b[0m\u001b[37m\u001b[0m \u001b[1m0s\u001b[0m 422us/step - accuracy: 0.9251 - loss: 0.1961\n",
      "Epoch 82/100\n",
      "\u001b[1m38/38\u001b[0m \u001b[32m━━━━━━━━━━━━━━━━━━━━\u001b[0m\u001b[37m\u001b[0m \u001b[1m0s\u001b[0m 422us/step - accuracy: 0.9282 - loss: 0.1898\n",
      "Epoch 83/100\n",
      "\u001b[1m38/38\u001b[0m \u001b[32m━━━━━━━━━━━━━━━━━━━━\u001b[0m\u001b[37m\u001b[0m \u001b[1m0s\u001b[0m 844us/step - accuracy: 0.9295 - loss: 0.2036\n",
      "Epoch 84/100\n",
      "\u001b[1m38/38\u001b[0m \u001b[32m━━━━━━━━━━━━━━━━━━━━\u001b[0m\u001b[37m\u001b[0m \u001b[1m0s\u001b[0m 677us/step - accuracy: 0.9295 - loss: 0.1908\n",
      "Epoch 85/100\n",
      "\u001b[1m38/38\u001b[0m \u001b[32m━━━━━━━━━━━━━━━━━━━━\u001b[0m\u001b[37m\u001b[0m \u001b[1m0s\u001b[0m 691us/step - accuracy: 0.9223 - loss: 0.2031\n",
      "Epoch 86/100\n",
      "\u001b[1m38/38\u001b[0m \u001b[32m━━━━━━━━━━━━━━━━━━━━\u001b[0m\u001b[37m\u001b[0m \u001b[1m0s\u001b[0m 916us/step - accuracy: 0.9238 - loss: 0.1912\n",
      "Epoch 87/100\n",
      "\u001b[1m38/38\u001b[0m \u001b[32m━━━━━━━━━━━━━━━━━━━━\u001b[0m\u001b[37m\u001b[0m \u001b[1m0s\u001b[0m 1ms/step - accuracy: 0.9143 - loss: 0.2182 \n",
      "Epoch 88/100\n",
      "\u001b[1m38/38\u001b[0m \u001b[32m━━━━━━━━━━━━━━━━━━━━\u001b[0m\u001b[37m\u001b[0m \u001b[1m0s\u001b[0m 422us/step - accuracy: 0.9237 - loss: 0.1823\n",
      "Epoch 89/100\n",
      "\u001b[1m38/38\u001b[0m \u001b[32m━━━━━━━━━━━━━━━━━━━━\u001b[0m\u001b[37m\u001b[0m \u001b[1m0s\u001b[0m 1ms/step - accuracy: 0.9174 - loss: 0.2227 \n",
      "Epoch 90/100\n",
      "\u001b[1m38/38\u001b[0m \u001b[32m━━━━━━━━━━━━━━━━━━━━\u001b[0m\u001b[37m\u001b[0m \u001b[1m0s\u001b[0m 851us/step - accuracy: 0.9146 - loss: 0.2155\n",
      "Epoch 91/100\n",
      "\u001b[1m38/38\u001b[0m \u001b[32m━━━━━━━━━━━━━━━━━━━━\u001b[0m\u001b[37m\u001b[0m \u001b[1m0s\u001b[0m 430us/step - accuracy: 0.9233 - loss: 0.2116\n",
      "Epoch 92/100\n",
      "\u001b[1m38/38\u001b[0m \u001b[32m━━━━━━━━━━━━━━━━━━━━\u001b[0m\u001b[37m\u001b[0m \u001b[1m0s\u001b[0m 422us/step - accuracy: 0.9373 - loss: 0.1752\n",
      "Epoch 93/100\n",
      "\u001b[1m38/38\u001b[0m \u001b[32m━━━━━━━━━━━━━━━━━━━━\u001b[0m\u001b[37m\u001b[0m \u001b[1m0s\u001b[0m 844us/step - accuracy: 0.9173 - loss: 0.2225\n",
      "Epoch 94/100\n",
      "\u001b[1m38/38\u001b[0m \u001b[32m━━━━━━━━━━━━━━━━━━━━\u001b[0m\u001b[37m\u001b[0m \u001b[1m0s\u001b[0m 422us/step - accuracy: 0.9238 - loss: 0.1898\n",
      "Epoch 95/100\n",
      "\u001b[1m38/38\u001b[0m \u001b[32m━━━━━━━━━━━━━━━━━━━━\u001b[0m\u001b[37m\u001b[0m \u001b[1m0s\u001b[0m 609us/step - accuracy: 0.9276 - loss: 0.1858\n",
      "Epoch 96/100\n",
      "\u001b[1m38/38\u001b[0m \u001b[32m━━━━━━━━━━━━━━━━━━━━\u001b[0m\u001b[37m\u001b[0m \u001b[1m0s\u001b[0m 422us/step - accuracy: 0.9286 - loss: 0.1941\n",
      "Epoch 97/100\n",
      "\u001b[1m38/38\u001b[0m \u001b[32m━━━━━━━━━━━━━━━━━━━━\u001b[0m\u001b[37m\u001b[0m \u001b[1m0s\u001b[0m 422us/step - accuracy: 0.9216 - loss: 0.2161\n",
      "Epoch 98/100\n",
      "\u001b[1m38/38\u001b[0m \u001b[32m━━━━━━━━━━━━━━━━━━━━\u001b[0m\u001b[37m\u001b[0m \u001b[1m0s\u001b[0m 845us/step - accuracy: 0.9272 - loss: 0.1850\n",
      "Epoch 99/100\n",
      "\u001b[1m38/38\u001b[0m \u001b[32m━━━━━━━━━━━━━━━━━━━━\u001b[0m\u001b[37m\u001b[0m \u001b[1m0s\u001b[0m 422us/step - accuracy: 0.9477 - loss: 0.1616\n",
      "Epoch 100/100\n",
      "\u001b[1m38/38\u001b[0m \u001b[32m━━━━━━━━━━━━━━━━━━━━\u001b[0m\u001b[37m\u001b[0m \u001b[1m0s\u001b[0m 422us/step - accuracy: 0.9320 - loss: 0.1870\n"
     ]
    },
    {
     "data": {
      "text/plain": [
       "<keras.src.callbacks.history.History at 0x1b3ddbb11f0>"
      ]
     },
     "execution_count": 71,
     "metadata": {},
     "output_type": "execute_result"
    }
   ],
   "source": [
    "ann.fit(X_train, y_train, batch_size = 32, epochs = 100)"
   ]
  },
  {
   "cell_type": "markdown",
   "metadata": {},
   "source": [
    "### Part-4 Making Predictions and Evaluating the model"
   ]
  },
  {
   "cell_type": "markdown",
   "metadata": {},
   "source": [
    "### Predicting the test set results"
   ]
  },
  {
   "cell_type": "code",
   "execution_count": 72,
   "metadata": {},
   "outputs": [
    {
     "name": "stdout",
     "output_type": "stream",
     "text": [
      "\u001b[1m10/10\u001b[0m \u001b[32m━━━━━━━━━━━━━━━━━━━━\u001b[0m\u001b[37m\u001b[0m \u001b[1m0s\u001b[0m 2ms/step \n",
      "[[0 0]\n",
      " [0 0]\n",
      " [0 1]\n",
      " [0 1]\n",
      " [1 1]\n",
      " [1 1]\n",
      " [1 1]\n",
      " [0 0]\n",
      " [0 0]\n",
      " [0 0]\n",
      " [0 0]\n",
      " [1 0]\n",
      " [0 0]\n",
      " [1 1]\n",
      " [0 0]\n",
      " [0 0]\n",
      " [1 1]\n",
      " [0 1]\n",
      " [1 1]\n",
      " [0 0]\n",
      " [0 0]\n",
      " [0 0]\n",
      " [0 0]\n",
      " [1 1]\n",
      " [0 0]\n",
      " [0 0]\n",
      " [1 1]\n",
      " [0 0]\n",
      " [0 0]\n",
      " [1 1]\n",
      " [1 0]\n",
      " [0 0]\n",
      " [1 1]\n",
      " [0 0]\n",
      " [1 1]\n",
      " [0 0]\n",
      " [1 1]\n",
      " [0 0]\n",
      " [0 0]\n",
      " [0 0]\n",
      " [0 0]\n",
      " [0 0]\n",
      " [1 0]\n",
      " [0 0]\n",
      " [0 0]\n",
      " [1 1]\n",
      " [0 0]\n",
      " [0 0]\n",
      " [0 0]\n",
      " [1 1]\n",
      " [1 1]\n",
      " [0 0]\n",
      " [0 0]\n",
      " [0 0]\n",
      " [0 0]\n",
      " [0 0]\n",
      " [0 0]\n",
      " [0 0]\n",
      " [0 1]\n",
      " [0 0]\n",
      " [0 0]\n",
      " [0 0]\n",
      " [0 0]\n",
      " [0 0]\n",
      " [0 1]\n",
      " [0 0]\n",
      " [0 0]\n",
      " [0 0]\n",
      " [1 0]\n",
      " [0 0]\n",
      " [0 0]\n",
      " [0 0]\n",
      " [0 0]\n",
      " [0 0]\n",
      " [0 0]\n",
      " [0 0]\n",
      " [0 0]\n",
      " [1 0]\n",
      " [1 1]\n",
      " [0 0]\n",
      " [0 0]\n",
      " [0 0]\n",
      " [0 0]\n",
      " [0 1]\n",
      " [0 0]\n",
      " [1 1]\n",
      " [0 1]\n",
      " [1 1]\n",
      " [0 0]\n",
      " [0 0]\n",
      " [1 0]\n",
      " [0 0]\n",
      " [1 1]\n",
      " [0 0]\n",
      " [1 1]\n",
      " [0 0]\n",
      " [1 1]\n",
      " [0 0]\n",
      " [1 0]\n",
      " [0 0]\n",
      " [0 0]\n",
      " [0 0]\n",
      " [0 0]\n",
      " [1 1]\n",
      " [1 1]\n",
      " [0 0]\n",
      " [0 0]\n",
      " [0 0]\n",
      " [0 0]\n",
      " [0 0]\n",
      " [0 0]\n",
      " [0 0]\n",
      " [1 1]\n",
      " [0 0]\n",
      " [0 0]\n",
      " [0 0]\n",
      " [0 0]\n",
      " [0 0]\n",
      " [1 1]\n",
      " [0 0]\n",
      " [0 0]\n",
      " [0 0]\n",
      " [0 1]\n",
      " [1 1]\n",
      " [0 0]\n",
      " [0 0]\n",
      " [0 0]\n",
      " [1 1]\n",
      " [0 1]\n",
      " [1 1]\n",
      " [0 0]\n",
      " [0 0]\n",
      " [0 0]\n",
      " [0 0]\n",
      " [1 1]\n",
      " [1 0]\n",
      " [0 0]\n",
      " [1 1]\n",
      " [0 0]\n",
      " [0 0]\n",
      " [0 0]\n",
      " [0 0]\n",
      " [0 0]\n",
      " [1 1]\n",
      " [0 1]\n",
      " [0 1]\n",
      " [1 1]\n",
      " [1 1]\n",
      " [1 1]\n",
      " [1 1]\n",
      " [0 0]\n",
      " [0 0]\n",
      " [0 0]\n",
      " [0 0]\n",
      " [1 1]\n",
      " [0 0]\n",
      " [0 0]\n",
      " [0 0]\n",
      " [0 0]\n",
      " [0 0]\n",
      " [0 0]\n",
      " [1 1]\n",
      " [0 0]\n",
      " [1 1]\n",
      " [1 1]\n",
      " [1 1]\n",
      " [0 0]\n",
      " [1 0]\n",
      " [0 0]\n",
      " [0 0]\n",
      " [0 0]\n",
      " [0 0]\n",
      " [0 0]\n",
      " [1 1]\n",
      " [1 1]\n",
      " [0 0]\n",
      " [1 0]\n",
      " [0 0]\n",
      " [0 1]\n",
      " [0 0]\n",
      " [0 0]\n",
      " [0 0]\n",
      " [0 0]\n",
      " [0 0]\n",
      " [0 0]\n",
      " [1 1]\n",
      " [0 0]\n",
      " [0 0]\n",
      " [0 0]\n",
      " [0 0]\n",
      " [0 0]\n",
      " [0 0]\n",
      " [0 0]\n",
      " [1 1]\n",
      " [0 0]\n",
      " [0 0]\n",
      " [0 0]\n",
      " [0 0]\n",
      " [0 0]\n",
      " [0 0]\n",
      " [0 1]\n",
      " [0 0]\n",
      " [1 0]\n",
      " [0 0]\n",
      " [0 0]\n",
      " [1 1]\n",
      " [0 0]\n",
      " [1 0]\n",
      " [0 0]\n",
      " [1 1]\n",
      " [0 0]\n",
      " [0 0]\n",
      " [1 1]\n",
      " [0 1]\n",
      " [0 0]\n",
      " [0 0]\n",
      " [0 0]\n",
      " [0 0]\n",
      " [0 0]\n",
      " [0 0]\n",
      " [0 0]\n",
      " [0 1]\n",
      " [0 0]\n",
      " [0 0]\n",
      " [0 0]\n",
      " [0 0]\n",
      " [0 1]\n",
      " [0 0]\n",
      " [0 0]\n",
      " [0 0]\n",
      " [0 0]\n",
      " [0 0]\n",
      " [1 1]\n",
      " [0 0]\n",
      " [0 0]\n",
      " [0 0]\n",
      " [0 0]\n",
      " [0 0]\n",
      " [1 1]\n",
      " [1 1]\n",
      " [0 1]\n",
      " [1 1]\n",
      " [0 0]\n",
      " [0 1]\n",
      " [0 0]\n",
      " [0 0]\n",
      " [0 0]\n",
      " [1 1]\n",
      " [0 0]\n",
      " [1 1]\n",
      " [0 1]\n",
      " [0 0]\n",
      " [1 1]\n",
      " [0 0]\n",
      " [1 1]\n",
      " [1 1]\n",
      " [0 0]\n",
      " [0 0]\n",
      " [1 1]\n",
      " [0 1]\n",
      " [0 0]\n",
      " [0 0]\n",
      " [0 1]\n",
      " [0 0]\n",
      " [0 0]\n",
      " [0 0]\n",
      " [0 0]\n",
      " [1 1]\n",
      " [0 0]\n",
      " [1 1]\n",
      " [0 0]\n",
      " [0 1]\n",
      " [0 0]\n",
      " [1 0]\n",
      " [0 0]\n",
      " [1 1]\n",
      " [0 0]\n",
      " [0 0]\n",
      " [0 0]\n",
      " [0 1]\n",
      " [1 1]\n",
      " [0 0]\n",
      " [1 1]\n",
      " [1 1]\n",
      " [0 0]\n",
      " [0 0]\n",
      " [1 0]\n",
      " [0 0]\n",
      " [1 1]\n",
      " [0 0]\n",
      " [0 0]\n",
      " [1 1]\n",
      " [0 0]\n",
      " [0 0]\n",
      " [0 0]\n",
      " [1 1]\n",
      " [0 0]\n",
      " [0 0]\n",
      " [0 0]\n",
      " [0 0]]\n"
     ]
    }
   ],
   "source": [
    "y_pred = ann.predict(X_test)\n",
    "y_pred = (y_pred > 0.5)\n",
    "print(np.concatenate((y_pred.reshape(len(y_pred),1), y_test.reshape(len(y_test),1)),1))"
   ]
  },
  {
   "cell_type": "markdown",
   "metadata": {},
   "source": [
    "### Setting up some imporatant mean parameters w.r.t data description and correlation"
   ]
  },
  {
   "cell_type": "code",
   "execution_count": 73,
   "metadata": {},
   "outputs": [],
   "source": [
    "mean_edu = 2\n",
    "mean_i_score = 50\n",
    "mean_s_score = 51\n",
    "mean_p_score = 49"
   ]
  },
  {
   "cell_type": "markdown",
   "metadata": {},
   "source": [
    "### Making a single prediction"
   ]
  },
  {
   "cell_type": "code",
   "execution_count": 74,
   "metadata": {},
   "outputs": [
    {
     "name": "stdout",
     "output_type": "stream",
     "text": [
      "\u001b[1m1/1\u001b[0m \u001b[32m━━━━━━━━━━━━━━━━━━━━\u001b[0m\u001b[37m\u001b[0m \u001b[1m0s\u001b[0m 23ms/step\n",
      "We're sorry, You're not hired. Try working upon following aspects : \n",
      "\n",
      "Get some more knowledge through education\n"
     ]
    }
   ],
   "source": [
    "age = int(input(\"Enter your age : \"))\n",
    "gender = int(input(\"Select your gender (0- female  1-male) : \"))\n",
    "edu_level = int(input(\"Select your educational level : \\n1. Bachelor's (Type 1) \\n2. Bachelor's (Type 2) \\n3. Master's \\n4. Phd\\n\"))\n",
    "exp = int(input(\"Enter years of experience : \"))\n",
    "prev_comp = int(input(\"Enter no. of companies in which you worked previously\"))\n",
    "dist = float(input(\"Enter your distance from comapny (in km) : \"))\n",
    "i_score = int(input(\"Enter your interview score (out of 100) : \"))\n",
    "s_score = int(input(\"Enter your skill score (out of 100) : \"))\n",
    "p_score = int(input(\"Enter your personality score (out of 100) : \"))\n",
    "recruit_strategy = int(input(\"Enter recruitment strategy : \\n1. Aggresive \\n2. Moderate \\n. Conservative\"))\n",
    "\n",
    "if(ann.predict(sc.transform([[age, gender, edu_level, exp, prev_comp , dist, i_score, s_score, p_score, recruit_strategy]])) > 0.5):\n",
    "    hire_status = True\n",
    "else:\n",
    "    hire_status = False\n",
    "\n",
    "if(hire_status == True):\n",
    "    print(\"Congrats! You're hired :)\")\n",
    "else:\n",
    "    print(\"We're sorry, You're not hired. Try working upon following aspects : \\n\")\n",
    "    if(edu_level <= mean_edu):\n",
    "        print(\"Get some more knowledge through education\")\n",
    "    if(i_score <= mean_i_score):\n",
    "        print(\"Try getting some more confidence during interview\")\n",
    "    if(s_score <= mean_s_score):\n",
    "        print(\"Consider focusing on increasing your skill level to achieve greater success and growth.\")\n",
    "    if(p_score <= mean_p_score):\n",
    "        print(\"Consider improving your personality by fostering a positive attitude, practicing active listening, and building your confidence.\")"
   ]
  },
  {
   "cell_type": "markdown",
   "metadata": {},
   "source": [
    "### Making the Confusion Matrix"
   ]
  },
  {
   "cell_type": "code",
   "execution_count": 75,
   "metadata": {},
   "outputs": [
    {
     "name": "stdout",
     "output_type": "stream",
     "text": [
      "[[197  23]\n",
      " [ 14  66]]\n",
      "Accuracy obtained: 87.67 %\n",
      "Precision obtained: 74.16 %\n",
      "Recall obtained: 82.50 %\n",
      "F1 Score obtained: 78.11 %\n"
     ]
    }
   ],
   "source": [
    "from sklearn.metrics import confusion_matrix, accuracy_score, recall_score, precision_score, f1_score\n",
    "\n",
    "# Making the confusion matrix\n",
    "cm = confusion_matrix(y_pred, y_test)\n",
    "print(cm)\n",
    "\n",
    "# Accuracy Score\n",
    "print(f\"Accuracy obtained: {accuracy_score(y_pred, y_test)*100:.2f} %\")\n",
    "\n",
    "# Precision\n",
    "precision = precision_score(y_pred, y_test)\n",
    "print(f\"Precision obtained: {precision*100:.2f} %\")\n",
    "\n",
    "# Recall\n",
    "recall = recall_score(y_pred, y_test)\n",
    "print(f\"Recall obtained: {recall*100:.2f} %\")\n",
    "\n",
    "# F1 Score\n",
    "f1 = f1_score(y_pred, y_test)\n",
    "print(f\"F1 Score obtained: {f1*100:.2f} %\")"
   ]
  }
 ],
 "metadata": {
  "kernelspec": {
   "display_name": "Python 3",
   "language": "python",
   "name": "python3"
  },
  "language_info": {
   "codemirror_mode": {
    "name": "ipython",
    "version": 3
   },
   "file_extension": ".py",
   "mimetype": "text/x-python",
   "name": "python",
   "nbconvert_exporter": "python",
   "pygments_lexer": "ipython3",
   "version": "3.12.4"
  }
 },
 "nbformat": 4,
 "nbformat_minor": 2
}
